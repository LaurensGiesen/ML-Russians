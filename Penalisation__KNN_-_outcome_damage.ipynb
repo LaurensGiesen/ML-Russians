{
 "cells": [
  {
   "cell_type": "markdown",
   "metadata": {},
   "source": [
    "# **Penelisation & KNN - outcome_damage**"
   ]
  },
  {
   "cell_type": "markdown",
   "metadata": {},
   "source": [
    "# 0. Loading packages and dataset"
   ]
  },
  {
   "cell_type": "code",
   "execution_count": 1,
   "metadata": {},
   "outputs": [],
   "source": [
    "%matplotlib inline\n",
    "import numpy as np\n",
    "import pandas as pd\n",
    "import matplotlib as mpl\n",
    "import matplotlib.pyplot as plt\n",
    "import seaborn as sns\n",
    "plt.style.use('seaborn-darkgrid')\n",
    "\n",
    "df = pd.read_csv('train_V2_cleaned.csv', index_col=[0])"
   ]
  },
  {
   "cell_type": "markdown",
   "metadata": {},
   "source": [
    "# 1. Take a look at the data"
   ]
  },
  {
   "cell_type": "code",
   "execution_count": 2,
   "metadata": {},
   "outputs": [
    {
     "data": {
      "text/plain": [
       "(4912, 57)"
      ]
     },
     "execution_count": 2,
     "metadata": {},
     "output_type": "execute_result"
    }
   ],
   "source": [
    "df.shape"
   ]
  },
  {
   "cell_type": "code",
   "execution_count": 3,
   "metadata": {},
   "outputs": [
    {
     "data": {
      "text/html": [
       "<div>\n",
       "<style scoped>\n",
       "    .dataframe tbody tr th:only-of-type {\n",
       "        vertical-align: middle;\n",
       "    }\n",
       "\n",
       "    .dataframe tbody tr th {\n",
       "        vertical-align: top;\n",
       "    }\n",
       "\n",
       "    .dataframe thead th {\n",
       "        text-align: right;\n",
       "    }\n",
       "</style>\n",
       "<table border=\"1\" class=\"dataframe\">\n",
       "  <thead>\n",
       "    <tr style=\"text-align: right;\">\n",
       "      <th></th>\n",
       "      <th>income_am</th>\n",
       "      <th>profit_last_am</th>\n",
       "      <th>profit_am</th>\n",
       "      <th>damage_am</th>\n",
       "      <th>damage_inc</th>\n",
       "      <th>crd_lim_rec</th>\n",
       "      <th>credit_use_ic</th>\n",
       "      <th>gluten_ic</th>\n",
       "      <th>lactose_ic</th>\n",
       "      <th>insurance_ic</th>\n",
       "      <th>...</th>\n",
       "      <th>client_segment_2.0</th>\n",
       "      <th>client_segment_3.0</th>\n",
       "      <th>client_segment_4.0</th>\n",
       "      <th>client_segment_5.0</th>\n",
       "      <th>sect_empl_0.0</th>\n",
       "      <th>sect_empl_1.0</th>\n",
       "      <th>sect_empl_2.0</th>\n",
       "      <th>sect_empl_3.0</th>\n",
       "      <th>sect_empl_4.0</th>\n",
       "      <th>sect_empl_6.0</th>\n",
       "    </tr>\n",
       "  </thead>\n",
       "  <tbody>\n",
       "    <tr>\n",
       "      <th>1090</th>\n",
       "      <td>-0.916414</td>\n",
       "      <td>-1.142158</td>\n",
       "      <td>-0.137953</td>\n",
       "      <td>-0.409033</td>\n",
       "      <td>-0.452286</td>\n",
       "      <td>0.802621</td>\n",
       "      <td>4.804002</td>\n",
       "      <td>0.0</td>\n",
       "      <td>0.0</td>\n",
       "      <td>1.0</td>\n",
       "      <td>...</td>\n",
       "      <td>0</td>\n",
       "      <td>0</td>\n",
       "      <td>0</td>\n",
       "      <td>0</td>\n",
       "      <td>1</td>\n",
       "      <td>0</td>\n",
       "      <td>0</td>\n",
       "      <td>0</td>\n",
       "      <td>0</td>\n",
       "      <td>0</td>\n",
       "    </tr>\n",
       "    <tr>\n",
       "      <th>4542</th>\n",
       "      <td>-0.889399</td>\n",
       "      <td>-1.142158</td>\n",
       "      <td>-0.549632</td>\n",
       "      <td>-0.409033</td>\n",
       "      <td>-0.452286</td>\n",
       "      <td>-1.094296</td>\n",
       "      <td>-0.208160</td>\n",
       "      <td>0.0</td>\n",
       "      <td>0.0</td>\n",
       "      <td>1.0</td>\n",
       "      <td>...</td>\n",
       "      <td>0</td>\n",
       "      <td>0</td>\n",
       "      <td>0</td>\n",
       "      <td>0</td>\n",
       "      <td>1</td>\n",
       "      <td>0</td>\n",
       "      <td>0</td>\n",
       "      <td>0</td>\n",
       "      <td>0</td>\n",
       "      <td>0</td>\n",
       "    </tr>\n",
       "    <tr>\n",
       "      <th>3439</th>\n",
       "      <td>1.232655</td>\n",
       "      <td>1.430057</td>\n",
       "      <td>1.367869</td>\n",
       "      <td>-0.409033</td>\n",
       "      <td>-0.452286</td>\n",
       "      <td>-1.094296</td>\n",
       "      <td>-0.208160</td>\n",
       "      <td>0.0</td>\n",
       "      <td>0.0</td>\n",
       "      <td>0.0</td>\n",
       "      <td>...</td>\n",
       "      <td>0</td>\n",
       "      <td>1</td>\n",
       "      <td>0</td>\n",
       "      <td>0</td>\n",
       "      <td>0</td>\n",
       "      <td>1</td>\n",
       "      <td>0</td>\n",
       "      <td>0</td>\n",
       "      <td>0</td>\n",
       "      <td>0</td>\n",
       "    </tr>\n",
       "    <tr>\n",
       "      <th>3122</th>\n",
       "      <td>0.915028</td>\n",
       "      <td>0.778278</td>\n",
       "      <td>1.164925</td>\n",
       "      <td>-0.409033</td>\n",
       "      <td>-0.452286</td>\n",
       "      <td>0.870758</td>\n",
       "      <td>-0.208160</td>\n",
       "      <td>0.0</td>\n",
       "      <td>0.0</td>\n",
       "      <td>0.0</td>\n",
       "      <td>...</td>\n",
       "      <td>0</td>\n",
       "      <td>0</td>\n",
       "      <td>0</td>\n",
       "      <td>0</td>\n",
       "      <td>1</td>\n",
       "      <td>0</td>\n",
       "      <td>0</td>\n",
       "      <td>0</td>\n",
       "      <td>0</td>\n",
       "      <td>0</td>\n",
       "    </tr>\n",
       "    <tr>\n",
       "      <th>129</th>\n",
       "      <td>1.601833</td>\n",
       "      <td>1.264973</td>\n",
       "      <td>-0.397645</td>\n",
       "      <td>-0.409033</td>\n",
       "      <td>-0.452286</td>\n",
       "      <td>0.839130</td>\n",
       "      <td>-0.208160</td>\n",
       "      <td>0.0</td>\n",
       "      <td>0.0</td>\n",
       "      <td>1.0</td>\n",
       "      <td>...</td>\n",
       "      <td>0</td>\n",
       "      <td>0</td>\n",
       "      <td>0</td>\n",
       "      <td>0</td>\n",
       "      <td>0</td>\n",
       "      <td>0</td>\n",
       "      <td>0</td>\n",
       "      <td>0</td>\n",
       "      <td>1</td>\n",
       "      <td>0</td>\n",
       "    </tr>\n",
       "  </tbody>\n",
       "</table>\n",
       "<p>5 rows × 57 columns</p>\n",
       "</div>"
      ],
      "text/plain": [
       "      income_am  profit_last_am  profit_am  damage_am  damage_inc  \\\n",
       "1090  -0.916414       -1.142158  -0.137953  -0.409033   -0.452286   \n",
       "4542  -0.889399       -1.142158  -0.549632  -0.409033   -0.452286   \n",
       "3439   1.232655        1.430057   1.367869  -0.409033   -0.452286   \n",
       "3122   0.915028        0.778278   1.164925  -0.409033   -0.452286   \n",
       "129    1.601833        1.264973  -0.397645  -0.409033   -0.452286   \n",
       "\n",
       "      crd_lim_rec  credit_use_ic  gluten_ic  lactose_ic  insurance_ic  ...  \\\n",
       "1090     0.802621       4.804002        0.0         0.0           1.0  ...   \n",
       "4542    -1.094296      -0.208160        0.0         0.0           1.0  ...   \n",
       "3439    -1.094296      -0.208160        0.0         0.0           0.0  ...   \n",
       "3122     0.870758      -0.208160        0.0         0.0           0.0  ...   \n",
       "129      0.839130      -0.208160        0.0         0.0           1.0  ...   \n",
       "\n",
       "      client_segment_2.0  client_segment_3.0  client_segment_4.0  \\\n",
       "1090                   0                   0                   0   \n",
       "4542                   0                   0                   0   \n",
       "3439                   0                   1                   0   \n",
       "3122                   0                   0                   0   \n",
       "129                    0                   0                   0   \n",
       "\n",
       "      client_segment_5.0  sect_empl_0.0  sect_empl_1.0  sect_empl_2.0  \\\n",
       "1090                   0              1              0              0   \n",
       "4542                   0              1              0              0   \n",
       "3439                   0              0              1              0   \n",
       "3122                   0              1              0              0   \n",
       "129                    0              0              0              0   \n",
       "\n",
       "      sect_empl_3.0  sect_empl_4.0  sect_empl_6.0  \n",
       "1090              0              0              0  \n",
       "4542              0              0              0  \n",
       "3439              0              0              0  \n",
       "3122              0              0              0  \n",
       "129               0              1              0  \n",
       "\n",
       "[5 rows x 57 columns]"
      ]
     },
     "execution_count": 3,
     "metadata": {},
     "output_type": "execute_result"
    }
   ],
   "source": [
    "df.head()"
   ]
  },
  {
   "cell_type": "code",
   "execution_count": 4,
   "metadata": {},
   "outputs": [
    {
     "name": "stdout",
     "output_type": "stream",
     "text": [
      "<class 'pandas.core.frame.DataFrame'>\n",
      "Int64Index: 4912 entries, 1090 to 1304\n",
      "Data columns (total 57 columns):\n",
      " #   Column                 Non-Null Count  Dtype  \n",
      "---  ------                 --------------  -----  \n",
      " 0   income_am              4912 non-null   float64\n",
      " 1   profit_last_am         4912 non-null   float64\n",
      " 2   profit_am              4912 non-null   float64\n",
      " 3   damage_am              4912 non-null   float64\n",
      " 4   damage_inc             4912 non-null   float64\n",
      " 5   crd_lim_rec            4912 non-null   float64\n",
      " 6   credit_use_ic          4912 non-null   float64\n",
      " 7   gluten_ic              4912 non-null   float64\n",
      " 8   lactose_ic             4912 non-null   float64\n",
      " 9   insurance_ic           4912 non-null   float64\n",
      " 10  spa_ic                 4912 non-null   float64\n",
      " 11  empl_ic                4912 non-null   float64\n",
      " 12  cab_requests           4912 non-null   float64\n",
      " 13  married_cd             4912 non-null   float64\n",
      " 14  bar_no                 4912 non-null   float64\n",
      " 15  sport_ic               4912 non-null   float64\n",
      " 16  neighbor_income        4912 non-null   float64\n",
      " 17  age                    4912 non-null   float64\n",
      " 18  marketing_permit       4912 non-null   float64\n",
      " 19  urban_ic               4912 non-null   float64\n",
      " 20  dining_ic              4912 non-null   float64\n",
      " 21  presidential           4912 non-null   float64\n",
      " 22  prev_stay              4912 non-null   float64\n",
      " 23  prev_all_in_stay       4912 non-null   float64\n",
      " 24  divorce                4912 non-null   float64\n",
      " 25  fam_adult_size         4912 non-null   float64\n",
      " 26  children_no            4912 non-null   float64\n",
      " 27  tenure_mts             4912 non-null   float64\n",
      " 28  company_ic             4912 non-null   float64\n",
      " 29  claims_no              4912 non-null   float64\n",
      " 30  claims_am              4912 non-null   float64\n",
      " 31  nights_booked          4912 non-null   float64\n",
      " 32  shop_am                4912 non-null   float64\n",
      " 33  shop_use               4912 non-null   float64\n",
      " 34  retired                4912 non-null   float64\n",
      " 35  gold_status            4912 non-null   float64\n",
      " 36  outcome_profit         4912 non-null   float64\n",
      " 37  outcome_damage_inc     4912 non-null   int64  \n",
      " 38  outcome_damage_amount  4912 non-null   float64\n",
      " 39  score_pos              4912 non-null   float64\n",
      " 40  score_neg              4912 non-null   float64\n",
      " 41  missing_score_pos      4912 non-null   int64  \n",
      " 42  missing_score_neg      4912 non-null   int64  \n",
      " 43  gender_M               4912 non-null   int64  \n",
      " 44  gender_V               4912 non-null   int64  \n",
      " 45  client_segment_0.0     4912 non-null   int64  \n",
      " 46  client_segment_1.0     4912 non-null   int64  \n",
      " 47  client_segment_2.0     4912 non-null   int64  \n",
      " 48  client_segment_3.0     4912 non-null   int64  \n",
      " 49  client_segment_4.0     4912 non-null   int64  \n",
      " 50  client_segment_5.0     4912 non-null   int64  \n",
      " 51  sect_empl_0.0          4912 non-null   int64  \n",
      " 52  sect_empl_1.0          4912 non-null   int64  \n",
      " 53  sect_empl_2.0          4912 non-null   int64  \n",
      " 54  sect_empl_3.0          4912 non-null   int64  \n",
      " 55  sect_empl_4.0          4912 non-null   int64  \n",
      " 56  sect_empl_6.0          4912 non-null   int64  \n",
      "dtypes: float64(40), int64(17)\n",
      "memory usage: 2.2 MB\n"
     ]
    }
   ],
   "source": [
    "df.info()"
   ]
  },
  {
   "cell_type": "code",
   "execution_count": 5,
   "metadata": {},
   "outputs": [],
   "source": [
    "df.iloc[:,25:39] = df.iloc[:,25:39].astype(np.uint8)"
   ]
  },
  {
   "cell_type": "markdown",
   "metadata": {},
   "source": [
    "# 2 Train/test-split and standardisation"
   ]
  },
  {
   "cell_type": "code",
   "execution_count": 6,
   "metadata": {},
   "outputs": [],
   "source": [
    "from sklearn.model_selection import train_test_split\n",
    "from random import Random\n",
    "\n",
    "damagers = df[df['outcome_damage_inc'] == 1]\n",
    "\n",
    "X = damagers.drop(['outcome_profit', 'outcome_damage_amount', 'outcome_damage_inc'], 1)\n",
    "y_damage = damagers['outcome_damage_amount']\n",
    "\n",
    "\n",
    "\n",
    "X_train_damage, X_test_damage, y_train_damage, y_test_damage = train_test_split(X, y_damage, test_size=0.2, random_state=123)"
   ]
  },
  {
   "cell_type": "markdown",
   "metadata": {},
   "source": [
    "__note__: Standardization already happened in pre-processing"
   ]
  },
  {
   "cell_type": "markdown",
   "metadata": {},
   "source": [
    "# 3. Nearest neighbors\n",
    "## 3.1. Radius Neighbors Regression"
   ]
  },
  {
   "cell_type": "markdown",
   "metadata": {},
   "source": [
    "1. Crossvalidation from 5 to 10."
   ]
  },
  {
   "cell_type": "code",
   "execution_count": 7,
   "metadata": {},
   "outputs": [],
   "source": [
    "from sklearn.neighbors import RadiusNeighborsRegressor\n",
    "from sklearn.model_selection import cross_val_score\n",
    "\n",
    "Radius = np.linspace(5,10,5)\n",
    "cv_scores = []\n",
    "sd_scores = []\n",
    "\n",
    "for k in Radius:\n",
    "    Rnn = RadiusNeighborsRegressor(radius= k)\n",
    "    scores = cross_val_score(Rnn, X_train_damage, y_train_damage,  cv=3)\n",
    "    cv_scores.append(scores.mean())\n",
    "    sd_scores.append(np.sqrt(scores.var())/np.sqrt(5))"
   ]
  },
  {
   "cell_type": "code",
   "execution_count": 8,
   "metadata": {},
   "outputs": [
    {
     "data": {
      "image/png": "[encoded data removed]",
      "text/plain": [
       "<Figure size 432x288 with 1 Axes>"
      ]
     },
     "metadata": {},
     "output_type": "display_data"
    }
   ],
   "source": [
    "max_value = max(cv_scores)\n",
    "max_index = cv_scores.index(max_value)\n",
    "\n",
    "plt.plot(Radius, cv_scores)\n",
    "plt.xlabel('Radius of Neighbors ')\n",
    "plt.ylabel('R^2')\n",
    "plt.axhline(y=max_value-1.96*sd_scores[max_index])\n",
    "\n",
    "plt.show()"
   ]
  },
  {
   "cell_type": "markdown",
   "metadata": {},
   "source": [
    "## 3.2 K-nearest Neighbors"
   ]
  },
  {
   "cell_type": "markdown",
   "metadata": {},
   "source": [
    "1. Cross-validation"
   ]
  },
  {
   "cell_type": "code",
   "execution_count": 9,
   "metadata": {},
   "outputs": [],
   "source": [
    "from sklearn.neighbors import KNeighborsRegressor\n",
    "from sklearn.model_selection import cross_val_score\n",
    "\n",
    "K = np.arange(1,65)    \n",
    "cv_scores = []\n",
    "sd_scores = []\n",
    "# perform 5-fold cross validation on the  possible values for the radius (bandwith)\n",
    "for k in K:\n",
    "    knn = KNeighborsRegressor(n_neighbors= k)\n",
    "    scores = cross_val_score(knn, X_train_damage, y_train_damage, cv=5)\n",
    "    cv_scores.append(scores.mean())\n",
    "    sd_scores.append(np.sqrt(scores.var())/np.sqrt(5))"
   ]
  },
  {
   "cell_type": "markdown",
   "metadata": {},
   "source": [
    "2. plots"
   ]
  },
  {
   "cell_type": "code",
   "execution_count": 10,
   "metadata": {},
   "outputs": [
    {
     "data": {
      "image/png": "[encoded data removed]",
      "text/plain": [
       "<Figure size 432x288 with 1 Axes>"
      ]
     },
     "metadata": {},
     "output_type": "display_data"
    },
    {
     "name": "stdout",
     "output_type": "stream",
     "text": [
      "The best k is 14\n"
     ]
    }
   ],
   "source": [
    "max_value = max(cv_scores)\n",
    "max_index = cv_scores.index(max_value)\n",
    "\n",
    "plt.plot(K, cv_scores)\n",
    "plt.xlabel('k Neighbors ')\n",
    "plt.ylabel('R^2')\n",
    "plt.axhline(y=max_value-1.96*sd_scores[max_index])\n",
    "\n",
    "plt.show()\n",
    "print('The best k is', K[max_index])"
   ]
  },
  {
   "cell_type": "markdown",
   "metadata": {},
   "source": [
    "this plot is hard to read, so i focus on 10 => 65"
   ]
  },
  {
   "cell_type": "code",
   "execution_count": 23,
   "metadata": {},
   "outputs": [
    {
     "data": {
      "image/png": "[encoded data removed]",
      "text/plain": [
       "<Figure size 432x288 with 1 Axes>"
      ]
     },
     "metadata": {},
     "output_type": "display_data"
    },
    {
     "name": "stdout",
     "output_type": "stream",
     "text": [
      "The best k is 14\n"
     ]
    }
   ],
   "source": [
    "plt.plot(K[10 : 65],cv_scores[10 :65])\n",
    "plt.xlabel('k Neighbors ')\n",
    "plt.ylabel('R^2')\n",
    "\n",
    "plt.axhline(y=max_value-1.96*sd_scores[max_index])\n",
    "\n",
    "\n",
    "plt.show()\n",
    "print('The best k is', K[max_index])"
   ]
  },
  {
   "cell_type": "markdown",
   "metadata": {},
   "source": [
    "14 is a big number of neighbors, so we won't increase it, as it will lead to a underfitted model."
   ]
  },
  {
   "cell_type": "markdown",
   "metadata": {},
   "source": [
    "3. Retrain"
   ]
  },
  {
   "cell_type": "code",
   "execution_count": 25,
   "metadata": {},
   "outputs": [
    {
     "name": "stdout",
     "output_type": "stream",
     "text": [
      "train value for k=64: 0.17184197800874468\n"
     ]
    }
   ],
   "source": [
    "knn = KNeighborsRegressor(n_neighbors=14)\n",
    "knn.fit(X_train_damage, y_train_damage)  \n",
    "print('train value for k=64:', knn.score(X_train_damage, y_train_damage) )\n"
   ]
  },
  {
   "cell_type": "markdown",
   "metadata": {},
   "source": [
    "# 4. Penalisation"
   ]
  },
  {
   "cell_type": "markdown",
   "metadata": {},
   "source": [
    "1. Design polynomial features"
   ]
  },
  {
   "cell_type": "code",
   "execution_count": 26,
   "metadata": {},
   "outputs": [
    {
     "data": {
      "text/plain": [
       "(1008, 1540)"
      ]
     },
     "execution_count": 26,
     "metadata": {},
     "output_type": "execute_result"
    }
   ],
   "source": [
    "from sklearn.preprocessing import PolynomialFeatures\n",
    "\n",
    "poly = PolynomialFeatures(degree=2)\n",
    "X_train_poly = poly.fit_transform(X_train_damage)\n",
    "X_train_poly.shape"
   ]
  },
  {
   "cell_type": "markdown",
   "metadata": {},
   "source": [
    "2. Lasso-penalisation"
   ]
  },
  {
   "cell_type": "code",
   "execution_count": 27,
   "metadata": {},
   "outputs": [
    {
     "name": "stdout",
     "output_type": "stream",
     "text": [
      "R2: 0.097\n"
     ]
    }
   ],
   "source": [
    "from sklearn import linear_model\n",
    "linreg_lasso1 = linear_model.Lasso()\n",
    "linreg_lasso1.fit(X_train_poly, y_train_damage)\n",
    "print('R2: %.3f' % linreg_lasso1.score(X_train_poly, y_train_damage))"
   ]
  },
  {
   "cell_type": "markdown",
   "metadata": {},
   "source": [
    "This is too low! Probably because of underfit!"
   ]
  },
  {
   "cell_type": "code",
   "execution_count": 28,
   "metadata": {},
   "outputs": [
    {
     "data": {
      "text/plain": [
       "array([ 0.,  0.,  0., ..., -0.,  0.,  0.])"
      ]
     },
     "execution_count": 28,
     "metadata": {},
     "output_type": "execute_result"
    }
   ],
   "source": [
    "linreg_lasso1.coef_"
   ]
  },
  {
   "cell_type": "markdown",
   "metadata": {},
   "source": [
    "All coefficients are shrunken down to 0. Offcourse our model is underfitted. We do a cross-validation to find the best alpha."
   ]
  },
  {
   "cell_type": "markdown",
   "metadata": {},
   "source": [
    "3. Cross-validation"
   ]
  },
  {
   "cell_type": "code",
   "execution_count": 29,
   "metadata": {},
   "outputs": [
    {
     "name": "stdout",
     "output_type": "stream",
     "text": [
      "R2 : 0.040\n"
     ]
    }
   ],
   "source": [
    "from sklearn.linear_model import LassoCV\n",
    "linreg_lassoCV = LassoCV(cv=3, random_state=123, max_iter=10000).fit(X_train_poly, y_train_damage)\n",
    "print('R2 : %.3f' % linreg_lassoCV.score(X_train_poly, y_train_damage))"
   ]
  },
  {
   "cell_type": "markdown",
   "metadata": {},
   "source": [
    "This is not better"
   ]
  },
  {
   "cell_type": "code",
   "execution_count": 30,
   "metadata": {},
   "outputs": [
    {
     "data": {
      "text/plain": [
       "3.73088309099251"
      ]
     },
     "execution_count": 30,
     "metadata": {},
     "output_type": "execute_result"
    }
   ],
   "source": [
    "linreg_lassoCV.alpha_"
   ]
  },
  {
   "cell_type": "code",
   "execution_count": 31,
   "metadata": {},
   "outputs": [
    {
     "name": "stdout",
     "output_type": "stream",
     "text": [
      "0.039901177464893856\n"
     ]
    }
   ],
   "source": [
    "print(linreg_lassoCV.score(X_train_poly, y_train_damage))"
   ]
  },
  {
   "cell_type": "code",
   "execution_count": null,
   "metadata": {},
   "outputs": [],
   "source": []
  }
 ],
 "metadata": {
  "kernelspec": {
   "display_name": "Python 3",
   "language": "python",
   "name": "python3"
  },
  "language_info": {
   "codemirror_mode": {
    "name": "ipython",
    "version": 3
   },
   "file_extension": ".py",
   "mimetype": "text/x-python",
   "name": "python",
   "nbconvert_exporter": "python",
   "pygments_lexer": "ipython3",
   "version": "3.8.3"
  }
 },
 "nbformat": 4,
 "nbformat_minor": 4
}
