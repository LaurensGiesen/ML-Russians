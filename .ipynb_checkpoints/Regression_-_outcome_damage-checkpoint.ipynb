{
 "cells": [
  {
   "cell_type": "markdown",
   "metadata": {},
   "source": [
    "# **Regression - outcome_damage**"
   ]
  },
  {
   "cell_type": "markdown",
   "metadata": {},
   "source": [
    "# 0. Loading packages and dataset"
   ]
  },
  {
   "cell_type": "code",
   "execution_count": 21,
   "metadata": {},
   "outputs": [],
   "source": [
    "%matplotlib inline\n",
    "import numpy as np\n",
    "import pandas as pd\n",
    "import matplotlib as mpl\n",
    "import matplotlib.pyplot as plt\n",
    "import seaborn as sns\n",
    "plt.style.use('seaborn-darkgrid')\n",
    "\n",
    "df = pd.read_csv('train_V2_cleaned.csv', index_col=[0])"
   ]
  },
  {
   "cell_type": "markdown",
   "metadata": {},
   "source": [
    "# 1. Take a look at the data"
   ]
  },
  {
   "cell_type": "markdown",
   "metadata": {},
   "source": [
    "1. Dimensions"
   ]
  },
  {
   "cell_type": "code",
   "execution_count": 23,
   "metadata": {},
   "outputs": [
    {
     "data": {
      "text/plain": [
       "(4912, 57)"
      ]
     },
     "execution_count": 23,
     "metadata": {},
     "output_type": "execute_result"
    }
   ],
   "source": [
    "df.shape"
   ]
  },
  {
   "cell_type": "markdown",
   "metadata": {},
   "source": [
    "2. First rows"
   ]
  },
  {
   "cell_type": "code",
   "execution_count": 24,
   "metadata": {},
   "outputs": [
    {
     "data": {
      "text/html": [
       "<div>\n",
       "<style scoped>\n",
       "    .dataframe tbody tr th:only-of-type {\n",
       "        vertical-align: middle;\n",
       "    }\n",
       "\n",
       "    .dataframe tbody tr th {\n",
       "        vertical-align: top;\n",
       "    }\n",
       "\n",
       "    .dataframe thead th {\n",
       "        text-align: right;\n",
       "    }\n",
       "</style>\n",
       "<table border=\"1\" class=\"dataframe\">\n",
       "  <thead>\n",
       "    <tr style=\"text-align: right;\">\n",
       "      <th></th>\n",
       "      <th>income_am</th>\n",
       "      <th>profit_last_am</th>\n",
       "      <th>profit_am</th>\n",
       "      <th>damage_am</th>\n",
       "      <th>damage_inc</th>\n",
       "      <th>crd_lim_rec</th>\n",
       "      <th>credit_use_ic</th>\n",
       "      <th>gluten_ic</th>\n",
       "      <th>lactose_ic</th>\n",
       "      <th>insurance_ic</th>\n",
       "      <th>...</th>\n",
       "      <th>client_segment_2.0</th>\n",
       "      <th>client_segment_3.0</th>\n",
       "      <th>client_segment_4.0</th>\n",
       "      <th>client_segment_5.0</th>\n",
       "      <th>sect_empl_0.0</th>\n",
       "      <th>sect_empl_1.0</th>\n",
       "      <th>sect_empl_2.0</th>\n",
       "      <th>sect_empl_3.0</th>\n",
       "      <th>sect_empl_4.0</th>\n",
       "      <th>sect_empl_6.0</th>\n",
       "    </tr>\n",
       "  </thead>\n",
       "  <tbody>\n",
       "    <tr>\n",
       "      <th>1090</th>\n",
       "      <td>-0.916414</td>\n",
       "      <td>-1.142158</td>\n",
       "      <td>-0.137953</td>\n",
       "      <td>-0.409033</td>\n",
       "      <td>-0.452286</td>\n",
       "      <td>0.802621</td>\n",
       "      <td>4.804002</td>\n",
       "      <td>0.0</td>\n",
       "      <td>0.0</td>\n",
       "      <td>1.0</td>\n",
       "      <td>...</td>\n",
       "      <td>0</td>\n",
       "      <td>0</td>\n",
       "      <td>0</td>\n",
       "      <td>0</td>\n",
       "      <td>1</td>\n",
       "      <td>0</td>\n",
       "      <td>0</td>\n",
       "      <td>0</td>\n",
       "      <td>0</td>\n",
       "      <td>0</td>\n",
       "    </tr>\n",
       "    <tr>\n",
       "      <th>4542</th>\n",
       "      <td>-0.889399</td>\n",
       "      <td>-1.142158</td>\n",
       "      <td>-0.549632</td>\n",
       "      <td>-0.409033</td>\n",
       "      <td>-0.452286</td>\n",
       "      <td>-1.094296</td>\n",
       "      <td>-0.208160</td>\n",
       "      <td>0.0</td>\n",
       "      <td>0.0</td>\n",
       "      <td>1.0</td>\n",
       "      <td>...</td>\n",
       "      <td>0</td>\n",
       "      <td>0</td>\n",
       "      <td>0</td>\n",
       "      <td>0</td>\n",
       "      <td>1</td>\n",
       "      <td>0</td>\n",
       "      <td>0</td>\n",
       "      <td>0</td>\n",
       "      <td>0</td>\n",
       "      <td>0</td>\n",
       "    </tr>\n",
       "    <tr>\n",
       "      <th>3439</th>\n",
       "      <td>1.232655</td>\n",
       "      <td>1.430057</td>\n",
       "      <td>1.367869</td>\n",
       "      <td>-0.409033</td>\n",
       "      <td>-0.452286</td>\n",
       "      <td>-1.094296</td>\n",
       "      <td>-0.208160</td>\n",
       "      <td>0.0</td>\n",
       "      <td>0.0</td>\n",
       "      <td>0.0</td>\n",
       "      <td>...</td>\n",
       "      <td>0</td>\n",
       "      <td>1</td>\n",
       "      <td>0</td>\n",
       "      <td>0</td>\n",
       "      <td>0</td>\n",
       "      <td>1</td>\n",
       "      <td>0</td>\n",
       "      <td>0</td>\n",
       "      <td>0</td>\n",
       "      <td>0</td>\n",
       "    </tr>\n",
       "    <tr>\n",
       "      <th>3122</th>\n",
       "      <td>0.915028</td>\n",
       "      <td>0.778278</td>\n",
       "      <td>1.164925</td>\n",
       "      <td>-0.409033</td>\n",
       "      <td>-0.452286</td>\n",
       "      <td>0.870758</td>\n",
       "      <td>-0.208160</td>\n",
       "      <td>0.0</td>\n",
       "      <td>0.0</td>\n",
       "      <td>0.0</td>\n",
       "      <td>...</td>\n",
       "      <td>0</td>\n",
       "      <td>0</td>\n",
       "      <td>0</td>\n",
       "      <td>0</td>\n",
       "      <td>1</td>\n",
       "      <td>0</td>\n",
       "      <td>0</td>\n",
       "      <td>0</td>\n",
       "      <td>0</td>\n",
       "      <td>0</td>\n",
       "    </tr>\n",
       "    <tr>\n",
       "      <th>129</th>\n",
       "      <td>1.601833</td>\n",
       "      <td>1.264973</td>\n",
       "      <td>-0.397645</td>\n",
       "      <td>-0.409033</td>\n",
       "      <td>-0.452286</td>\n",
       "      <td>0.839130</td>\n",
       "      <td>-0.208160</td>\n",
       "      <td>0.0</td>\n",
       "      <td>0.0</td>\n",
       "      <td>1.0</td>\n",
       "      <td>...</td>\n",
       "      <td>0</td>\n",
       "      <td>0</td>\n",
       "      <td>0</td>\n",
       "      <td>0</td>\n",
       "      <td>0</td>\n",
       "      <td>0</td>\n",
       "      <td>0</td>\n",
       "      <td>0</td>\n",
       "      <td>1</td>\n",
       "      <td>0</td>\n",
       "    </tr>\n",
       "  </tbody>\n",
       "</table>\n",
       "<p>5 rows × 57 columns</p>\n",
       "</div>"
      ],
      "text/plain": [
       "      income_am  profit_last_am  profit_am  damage_am  damage_inc  \\\n",
       "1090  -0.916414       -1.142158  -0.137953  -0.409033   -0.452286   \n",
       "4542  -0.889399       -1.142158  -0.549632  -0.409033   -0.452286   \n",
       "3439   1.232655        1.430057   1.367869  -0.409033   -0.452286   \n",
       "3122   0.915028        0.778278   1.164925  -0.409033   -0.452286   \n",
       "129    1.601833        1.264973  -0.397645  -0.409033   -0.452286   \n",
       "\n",
       "      crd_lim_rec  credit_use_ic  gluten_ic  lactose_ic  insurance_ic  ...  \\\n",
       "1090     0.802621       4.804002        0.0         0.0           1.0  ...   \n",
       "4542    -1.094296      -0.208160        0.0         0.0           1.0  ...   \n",
       "3439    -1.094296      -0.208160        0.0         0.0           0.0  ...   \n",
       "3122     0.870758      -0.208160        0.0         0.0           0.0  ...   \n",
       "129      0.839130      -0.208160        0.0         0.0           1.0  ...   \n",
       "\n",
       "      client_segment_2.0  client_segment_3.0  client_segment_4.0  \\\n",
       "1090                   0                   0                   0   \n",
       "4542                   0                   0                   0   \n",
       "3439                   0                   1                   0   \n",
       "3122                   0                   0                   0   \n",
       "129                    0                   0                   0   \n",
       "\n",
       "      client_segment_5.0  sect_empl_0.0  sect_empl_1.0  sect_empl_2.0  \\\n",
       "1090                   0              1              0              0   \n",
       "4542                   0              1              0              0   \n",
       "3439                   0              0              1              0   \n",
       "3122                   0              1              0              0   \n",
       "129                    0              0              0              0   \n",
       "\n",
       "      sect_empl_3.0  sect_empl_4.0  sect_empl_6.0  \n",
       "1090              0              0              0  \n",
       "4542              0              0              0  \n",
       "3439              0              0              0  \n",
       "3122              0              0              0  \n",
       "129               0              1              0  \n",
       "\n",
       "[5 rows x 57 columns]"
      ]
     },
     "execution_count": 24,
     "metadata": {},
     "output_type": "execute_result"
    }
   ],
   "source": [
    "df.head()"
   ]
  },
  {
   "cell_type": "markdown",
   "metadata": {},
   "source": [
    "3. Data types"
   ]
  },
  {
   "cell_type": "code",
   "execution_count": 25,
   "metadata": {},
   "outputs": [
    {
     "name": "stdout",
     "output_type": "stream",
     "text": [
      "<class 'pandas.core.frame.DataFrame'>\n",
      "Int64Index: 4912 entries, 1090 to 1304\n",
      "Data columns (total 57 columns):\n",
      " #   Column                 Non-Null Count  Dtype  \n",
      "---  ------                 --------------  -----  \n",
      " 0   income_am              4912 non-null   float64\n",
      " 1   profit_last_am         4912 non-null   float64\n",
      " 2   profit_am              4912 non-null   float64\n",
      " 3   damage_am              4912 non-null   float64\n",
      " 4   damage_inc             4912 non-null   float64\n",
      " 5   crd_lim_rec            4912 non-null   float64\n",
      " 6   credit_use_ic          4912 non-null   float64\n",
      " 7   gluten_ic              4912 non-null   float64\n",
      " 8   lactose_ic             4912 non-null   float64\n",
      " 9   insurance_ic           4912 non-null   float64\n",
      " 10  spa_ic                 4912 non-null   float64\n",
      " 11  empl_ic                4912 non-null   float64\n",
      " 12  cab_requests           4912 non-null   float64\n",
      " 13  married_cd             4912 non-null   float64\n",
      " 14  bar_no                 4912 non-null   float64\n",
      " 15  sport_ic               4912 non-null   float64\n",
      " 16  neighbor_income        4912 non-null   float64\n",
      " 17  age                    4912 non-null   float64\n",
      " 18  marketing_permit       4912 non-null   float64\n",
      " 19  urban_ic               4912 non-null   float64\n",
      " 20  dining_ic              4912 non-null   float64\n",
      " 21  presidential           4912 non-null   float64\n",
      " 22  prev_stay              4912 non-null   float64\n",
      " 23  prev_all_in_stay       4912 non-null   float64\n",
      " 24  divorce                4912 non-null   float64\n",
      " 25  fam_adult_size         4912 non-null   float64\n",
      " 26  children_no            4912 non-null   float64\n",
      " 27  tenure_mts             4912 non-null   float64\n",
      " 28  company_ic             4912 non-null   float64\n",
      " 29  claims_no              4912 non-null   float64\n",
      " 30  claims_am              4912 non-null   float64\n",
      " 31  nights_booked          4912 non-null   float64\n",
      " 32  shop_am                4912 non-null   float64\n",
      " 33  shop_use               4912 non-null   float64\n",
      " 34  retired                4912 non-null   float64\n",
      " 35  gold_status            4912 non-null   float64\n",
      " 36  outcome_profit         4912 non-null   float64\n",
      " 37  outcome_damage_inc     4912 non-null   int64  \n",
      " 38  outcome_damage_amount  4912 non-null   float64\n",
      " 39  score_pos              4912 non-null   float64\n",
      " 40  score_neg              4912 non-null   float64\n",
      " 41  missing_score_pos      4912 non-null   int64  \n",
      " 42  missing_score_neg      4912 non-null   int64  \n",
      " 43  gender_M               4912 non-null   int64  \n",
      " 44  gender_V               4912 non-null   int64  \n",
      " 45  client_segment_0.0     4912 non-null   int64  \n",
      " 46  client_segment_1.0     4912 non-null   int64  \n",
      " 47  client_segment_2.0     4912 non-null   int64  \n",
      " 48  client_segment_3.0     4912 non-null   int64  \n",
      " 49  client_segment_4.0     4912 non-null   int64  \n",
      " 50  client_segment_5.0     4912 non-null   int64  \n",
      " 51  sect_empl_0.0          4912 non-null   int64  \n",
      " 52  sect_empl_1.0          4912 non-null   int64  \n",
      " 53  sect_empl_2.0          4912 non-null   int64  \n",
      " 54  sect_empl_3.0          4912 non-null   int64  \n",
      " 55  sect_empl_4.0          4912 non-null   int64  \n",
      " 56  sect_empl_6.0          4912 non-null   int64  \n",
      "dtypes: float64(40), int64(17)\n",
      "memory usage: 2.2 MB\n"
     ]
    }
   ],
   "source": [
    "df.info()"
   ]
  },
  {
   "cell_type": "markdown",
   "metadata": {},
   "source": [
    "# 2. X/Y-split"
   ]
  },
  {
   "cell_type": "code",
   "execution_count": 26,
   "metadata": {},
   "outputs": [],
   "source": [
    "from sklearn.model_selection import train_test_split\n",
    "\n",
    "X = df.drop(['outcome_profit', 'outcome_damage_amount', 'outcome_damage_inc'], 1)\n",
    "y_damage = df['outcome_damage_amount']\n",
    "\n",
    "X_train_damage, X_test_damage, y_train_damage, y_test_damage = train_test_split(X, y_damage, test_size=0.2, random_state=123)"
   ]
  },
  {
   "cell_type": "markdown",
   "metadata": {},
   "source": [
    "__note__: Standardization already happened in pre-processing"
   ]
  },
  {
   "cell_type": "markdown",
   "metadata": {},
   "source": [
    "# 3. Linear regression"
   ]
  },
  {
   "cell_type": "markdown",
   "metadata": {},
   "source": [
    "1. We begin with training the model on the train data we've splited"
   ]
  },
  {
   "cell_type": "code",
   "execution_count": 27,
   "metadata": {},
   "outputs": [
    {
     "data": {
      "text/plain": [
       "LinearRegression()"
      ]
     },
     "execution_count": 27,
     "metadata": {},
     "output_type": "execute_result"
    }
   ],
   "source": [
    "from sklearn.linear_model import LinearRegression\n",
    "reg= LinearRegression()\n",
    "reg.fit(X_train_damage, y_train_damage)"
   ]
  },
  {
   "cell_type": "markdown",
   "metadata": {},
   "source": [
    "2. Evaluating the model\n",
    "    + make predictions"
   ]
  },
  {
   "cell_type": "code",
   "execution_count": 28,
   "metadata": {},
   "outputs": [],
   "source": [
    "predictions_train = reg.predict(X_train_damage)"
   ]
  },
  {
   "cell_type": "markdown",
   "metadata": {},
   "source": [
    "3. Coefficient of determination (This can also help us to detect overfitting)"
   ]
  },
  {
   "cell_type": "code",
   "execution_count": 29,
   "metadata": {},
   "outputs": [
    {
     "name": "stdout",
     "output_type": "stream",
     "text": [
      "0.10422696051329128\n"
     ]
    }
   ],
   "source": [
    "print(reg.score(X_train_damage, y_train_damage))"
   ]
  },
  {
   "cell_type": "markdown",
   "metadata": {},
   "source": [
    "4. Mean absolute error"
   ]
  },
  {
   "cell_type": "code",
   "execution_count": 30,
   "metadata": {},
   "outputs": [
    {
     "name": "stdout",
     "output_type": "stream",
     "text": [
      "2.2254600835328855\n"
     ]
    }
   ],
   "source": [
    "from sklearn.metrics import mean_absolute_error\n",
    "print(mean_absolute_error(y_train_damage, predictions_train))"
   ]
  },
  {
   "cell_type": "markdown",
   "metadata": {},
   "source": [
    "5. Mean squared error"
   ]
  },
  {
   "cell_type": "code",
   "execution_count": 31,
   "metadata": {},
   "outputs": [
    {
     "name": "stdout",
     "output_type": "stream",
     "text": [
      "7.202174911286576\n"
     ]
    }
   ],
   "source": [
    "from sklearn.metrics import mean_squared_error\n",
    "print(mean_squared_error(y_train_damage, predictions_train))"
   ]
  },
  {
   "cell_type": "markdown",
   "metadata": {},
   "source": [
    "It's hard to say if this are good values or not, this is mainly used to compare models to each other"
   ]
  },
  {
   "cell_type": "markdown",
   "metadata": {},
   "source": [
    "# 4. Polynomial regression"
   ]
  },
  {
   "cell_type": "markdown",
   "metadata": {},
   "source": [
    "## 4.1 Quadratic mode"
   ]
  },
  {
   "cell_type": "markdown",
   "metadata": {},
   "source": [
    "1. Design the features"
   ]
  },
  {
   "cell_type": "code",
   "execution_count": 32,
   "metadata": {},
   "outputs": [],
   "source": [
    "from sklearn.preprocessing import PolynomialFeatures\n",
    "poly = PolynomialFeatures(degree=2)\n",
    "X_train_poly = poly.fit_transform(X_train_damage)"
   ]
  },
  {
   "cell_type": "code",
   "execution_count": 33,
   "metadata": {},
   "outputs": [
    {
     "data": {
      "text/plain": [
       "(3929, 1540)"
      ]
     },
     "execution_count": 33,
     "metadata": {},
     "output_type": "execute_result"
    }
   ],
   "source": [
    "X_train_poly.shape"
   ]
  },
  {
   "cell_type": "markdown",
   "metadata": {},
   "source": [
    "2. Fit the linear regression"
   ]
  },
  {
   "cell_type": "code",
   "execution_count": 34,
   "metadata": {},
   "outputs": [
    {
     "data": {
      "text/plain": [
       "LinearRegression(fit_intercept=False)"
      ]
     },
     "execution_count": 34,
     "metadata": {},
     "output_type": "execute_result"
    }
   ],
   "source": [
    "reg_quad = LinearRegression(fit_intercept=False)\n",
    "reg_quad.fit(X_train_poly, y_train_damage)"
   ]
  },
  {
   "cell_type": "code",
   "execution_count": 35,
   "metadata": {},
   "outputs": [
    {
     "name": "stdout",
     "output_type": "stream",
     "text": [
      "0.3848332171235289\n"
     ]
    }
   ],
   "source": [
    "print(reg_quad.score(X_train_poly, y_train_damage))"
   ]
  },
  {
   "cell_type": "markdown",
   "metadata": {},
   "source": [
    "## 4.2 Cross-validation to select the best order"
   ]
  },
  {
   "cell_type": "markdown",
   "metadata": {},
   "source": [
    "the 5-fold cross-validation takes place, so 5 sets of test values are generated (we use 'r2' here to get the R2). We will print out the average of the 5 R2's."
   ]
  },
  {
   "cell_type": "code",
   "execution_count": 36,
   "metadata": {},
   "outputs": [
    {
     "name": "stdout",
     "output_type": "stream",
     "text": [
      "Order 1: avg R^2 = 0.0807452522916053\n",
      "Order 2: avg R^2 = -2.9022341874432053e+19\n",
      "Order 3: avg R^2 = -14.11148082784489\n"
     ]
    }
   ],
   "source": [
    "from sklearn.pipeline import Pipeline\n",
    "\n",
    "from sklearn.model_selection import cross_val_score\n",
    "\n",
    "avg_scores = [None] * 3\n",
    "\n",
    "for i in np.arange(1,4):\n",
    "    \n",
    "    reg_poly = Pipeline([('poly', PolynomialFeatures(degree=i)),\n",
    "                  ('linear', LinearRegression(fit_intercept=False))])\n",
    "    \n",
    "    scores = cross_val_score(reg_poly, X_train_damage, y_train_damage, scoring = 'r2', cv=5)\n",
    "    \n",
    "    avg_scores[i-1] = scores.mean()\n",
    "    \n",
    "    print(\"Order \"+str(i)+\": avg R^2 = \"+str( avg_scores[i-1]))"
   ]
  },
  {
   "cell_type": "code",
   "execution_count": 37,
   "metadata": {},
   "outputs": [
    {
     "data": {
      "image/png": "[encoded data removed]",
      "text/plain": [
       "<Figure size 576x432 with 1 Axes>"
      ]
     },
     "metadata": {},
     "output_type": "display_data"
    }
   ],
   "source": [
    "fig, ax = plt.subplots(figsize=(8, 6))\n",
    "plt.scatter(np.arange(1,4), avg_scores, c='b', label='data')\n",
    "plt.axis('tight')\n",
    "plt.title(\"Cross-validation polynomials\")\n",
    "ax.set_xlabel(\"Order\");\n",
    "ax.set_ylabel(\"CV R^2\");\n",
    "plt.tight_layout()\n",
    "plt.show()"
   ]
  }
 ],
 "metadata": {
  "kernelspec": {
   "display_name": "Python 3",
   "language": "python",
   "name": "python3"
  },
  "language_info": {
   "codemirror_mode": {
    "name": "ipython",
    "version": 3
   },
   "file_extension": ".py",
   "mimetype": "text/x-python",
   "name": "python",
   "nbconvert_exporter": "python",
   "pygments_lexer": "ipython3",
   "version": "3.8.3"
  }
 },
 "nbformat": 4,
 "nbformat_minor": 4
}
