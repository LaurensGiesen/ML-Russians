{
 "cells": [
  {
   "cell_type": "markdown",
   "metadata": {},
   "source": [
    "# **Tree based methods - outcome_profit**"
   ]
  },
  {
   "cell_type": "markdown",
   "metadata": {},
   "source": [
    "# 0. Mount to drive, loading packages and dataset"
   ]
  },
  {
   "cell_type": "code",
   "execution_count": 1,
   "metadata": {},
   "outputs": [],
   "source": [
    "%matplotlib inline\n",
    "import numpy as np\n",
    "import pandas as pd\n",
    "import matplotlib as mpl\n",
    "import matplotlib.pyplot as plt\n",
    "import seaborn as sns\n",
    "plt.style.use('seaborn-darkgrid')\n",
    "\n",
    "df = pd.read_csv('train_V2_cleaned.csv', index_col=[0])"
   ]
  },
  {
   "cell_type": "code",
   "execution_count": 2,
   "metadata": {},
   "outputs": [],
   "source": [
    "df_test = pd.read_csv('score_cleaned.csv', index_col=[0])"
   ]
  },
  {
   "cell_type": "code",
   "execution_count": 3,
   "metadata": {},
   "outputs": [
    {
     "name": "stdout",
     "output_type": "stream",
     "text": [
      "<class 'pandas.core.frame.DataFrame'>\n",
      "Int64Index: 4912 entries, 1090 to 1304\n",
      "Data columns (total 57 columns):\n",
      " #   Column                 Non-Null Count  Dtype  \n",
      "---  ------                 --------------  -----  \n",
      " 0   income_am              4912 non-null   float64\n",
      " 1   profit_last_am         4912 non-null   float64\n",
      " 2   profit_am              4912 non-null   float64\n",
      " 3   damage_am              4912 non-null   float64\n",
      " 4   damage_inc             4912 non-null   float64\n",
      " 5   crd_lim_rec            4912 non-null   float64\n",
      " 6   credit_use_ic          4912 non-null   float64\n",
      " 7   gluten_ic              4912 non-null   float64\n",
      " 8   lactose_ic             4912 non-null   float64\n",
      " 9   insurance_ic           4912 non-null   float64\n",
      " 10  spa_ic                 4912 non-null   float64\n",
      " 11  empl_ic                4912 non-null   float64\n",
      " 12  cab_requests           4912 non-null   float64\n",
      " 13  married_cd             4912 non-null   float64\n",
      " 14  bar_no                 4912 non-null   float64\n",
      " 15  sport_ic               4912 non-null   float64\n",
      " 16  neighbor_income        4912 non-null   float64\n",
      " 17  age                    4912 non-null   float64\n",
      " 18  marketing_permit       4912 non-null   float64\n",
      " 19  urban_ic               4912 non-null   float64\n",
      " 20  dining_ic              4912 non-null   float64\n",
      " 21  presidential           4912 non-null   float64\n",
      " 22  prev_stay              4912 non-null   float64\n",
      " 23  prev_all_in_stay       4912 non-null   float64\n",
      " 24  divorce                4912 non-null   float64\n",
      " 25  fam_adult_size         4912 non-null   float64\n",
      " 26  children_no            4912 non-null   float64\n",
      " 27  tenure_mts             4912 non-null   float64\n",
      " 28  company_ic             4912 non-null   float64\n",
      " 29  claims_no              4912 non-null   float64\n",
      " 30  claims_am              4912 non-null   float64\n",
      " 31  nights_booked          4912 non-null   float64\n",
      " 32  shop_am                4912 non-null   float64\n",
      " 33  shop_use               4912 non-null   float64\n",
      " 34  retired                4912 non-null   float64\n",
      " 35  gold_status            4912 non-null   float64\n",
      " 36  outcome_profit         4912 non-null   float64\n",
      " 37  outcome_damage_inc     4912 non-null   int64  \n",
      " 38  outcome_damage_amount  4912 non-null   float64\n",
      " 39  score_pos              4912 non-null   float64\n",
      " 40  score_neg              4912 non-null   float64\n",
      " 41  missing_score_pos      4912 non-null   int64  \n",
      " 42  missing_score_neg      4912 non-null   int64  \n",
      " 43  gender_M               4912 non-null   int64  \n",
      " 44  gender_V               4912 non-null   int64  \n",
      " 45  client_segment_0.0     4912 non-null   int64  \n",
      " 46  client_segment_1.0     4912 non-null   int64  \n",
      " 47  client_segment_2.0     4912 non-null   int64  \n",
      " 48  client_segment_3.0     4912 non-null   int64  \n",
      " 49  client_segment_4.0     4912 non-null   int64  \n",
      " 50  client_segment_5.0     4912 non-null   int64  \n",
      " 51  sect_empl_0.0          4912 non-null   int64  \n",
      " 52  sect_empl_1.0          4912 non-null   int64  \n",
      " 53  sect_empl_2.0          4912 non-null   int64  \n",
      " 54  sect_empl_3.0          4912 non-null   int64  \n",
      " 55  sect_empl_4.0          4912 non-null   int64  \n",
      " 56  sect_empl_6.0          4912 non-null   int64  \n",
      "dtypes: float64(40), int64(17)\n",
      "memory usage: 2.2 MB\n"
     ]
    }
   ],
   "source": [
    "df.info()"
   ]
  },
  {
   "cell_type": "markdown",
   "metadata": {},
   "source": [
    "# 0.1 X/Y-split"
   ]
  },
  {
   "cell_type": "code",
   "execution_count": 4,
   "metadata": {},
   "outputs": [],
   "source": [
    "from sklearn.model_selection import train_test_split\n",
    "from sklearn.preprocessing import StandardScaler\n",
    "from random import Random\n",
    "\n",
    "X = df.drop(['outcome_profit', 'outcome_damage_amount', 'outcome_damage_inc'], 1)\n",
    "y_profit = df['outcome_profit']\n",
    "\n",
    "X_train_profit, X_test_profit, y_train_profit, y_test_profit = train_test_split(X, y_profit, test_size=0.2, random_state=123)"
   ]
  },
  {
   "cell_type": "markdown",
   "metadata": {},
   "source": [
    "__note__: Standardization already happened in pre-processing"
   ]
  },
  {
   "cell_type": "code",
   "execution_count": 5,
   "metadata": {},
   "outputs": [
    {
     "data": {
      "text/html": [
       "<div>\n",
       "<style scoped>\n",
       "    .dataframe tbody tr th:only-of-type {\n",
       "        vertical-align: middle;\n",
       "    }\n",
       "\n",
       "    .dataframe tbody tr th {\n",
       "        vertical-align: top;\n",
       "    }\n",
       "\n",
       "    .dataframe thead th {\n",
       "        text-align: right;\n",
       "    }\n",
       "</style>\n",
       "<table border=\"1\" class=\"dataframe\">\n",
       "  <thead>\n",
       "    <tr style=\"text-align: right;\">\n",
       "      <th></th>\n",
       "      <th>income_am</th>\n",
       "      <th>profit_last_am</th>\n",
       "      <th>profit_am</th>\n",
       "      <th>damage_am</th>\n",
       "      <th>damage_inc</th>\n",
       "      <th>crd_lim_rec</th>\n",
       "      <th>credit_use_ic</th>\n",
       "      <th>gluten_ic</th>\n",
       "      <th>lactose_ic</th>\n",
       "      <th>insurance_ic</th>\n",
       "      <th>...</th>\n",
       "      <th>client_segment_2.0</th>\n",
       "      <th>client_segment_3.0</th>\n",
       "      <th>client_segment_4.0</th>\n",
       "      <th>client_segment_5.0</th>\n",
       "      <th>sect_empl_0.0</th>\n",
       "      <th>sect_empl_1.0</th>\n",
       "      <th>sect_empl_2.0</th>\n",
       "      <th>sect_empl_3.0</th>\n",
       "      <th>sect_empl_4.0</th>\n",
       "      <th>sect_empl_6.0</th>\n",
       "    </tr>\n",
       "  </thead>\n",
       "  <tbody>\n",
       "    <tr>\n",
       "      <th>3780</th>\n",
       "      <td>-0.079047</td>\n",
       "      <td>0.518507</td>\n",
       "      <td>-0.609458</td>\n",
       "      <td>-0.409033</td>\n",
       "      <td>-0.452286</td>\n",
       "      <td>-1.094296</td>\n",
       "      <td>-0.20816</td>\n",
       "      <td>0.0</td>\n",
       "      <td>0.0</td>\n",
       "      <td>0.0</td>\n",
       "      <td>...</td>\n",
       "      <td>0</td>\n",
       "      <td>0</td>\n",
       "      <td>0</td>\n",
       "      <td>0</td>\n",
       "      <td>1</td>\n",
       "      <td>0</td>\n",
       "      <td>0</td>\n",
       "      <td>0</td>\n",
       "      <td>0</td>\n",
       "      <td>0</td>\n",
       "    </tr>\n",
       "    <tr>\n",
       "      <th>4586</th>\n",
       "      <td>1.113224</td>\n",
       "      <td>1.370074</td>\n",
       "      <td>1.087099</td>\n",
       "      <td>-0.409033</td>\n",
       "      <td>-0.452286</td>\n",
       "      <td>-1.094296</td>\n",
       "      <td>-0.20816</td>\n",
       "      <td>0.0</td>\n",
       "      <td>1.0</td>\n",
       "      <td>0.0</td>\n",
       "      <td>...</td>\n",
       "      <td>1</td>\n",
       "      <td>0</td>\n",
       "      <td>0</td>\n",
       "      <td>0</td>\n",
       "      <td>1</td>\n",
       "      <td>0</td>\n",
       "      <td>0</td>\n",
       "      <td>0</td>\n",
       "      <td>0</td>\n",
       "      <td>0</td>\n",
       "    </tr>\n",
       "    <tr>\n",
       "      <th>3261</th>\n",
       "      <td>1.009282</td>\n",
       "      <td>0.873504</td>\n",
       "      <td>0.096767</td>\n",
       "      <td>-0.409033</td>\n",
       "      <td>-0.452286</td>\n",
       "      <td>-1.094296</td>\n",
       "      <td>-0.20816</td>\n",
       "      <td>0.0</td>\n",
       "      <td>0.0</td>\n",
       "      <td>0.0</td>\n",
       "      <td>...</td>\n",
       "      <td>1</td>\n",
       "      <td>0</td>\n",
       "      <td>0</td>\n",
       "      <td>0</td>\n",
       "      <td>1</td>\n",
       "      <td>0</td>\n",
       "      <td>0</td>\n",
       "      <td>0</td>\n",
       "      <td>0</td>\n",
       "      <td>0</td>\n",
       "    </tr>\n",
       "    <tr>\n",
       "      <th>3457</th>\n",
       "      <td>-0.916414</td>\n",
       "      <td>0.990866</td>\n",
       "      <td>-0.688244</td>\n",
       "      <td>-0.409033</td>\n",
       "      <td>-0.452286</td>\n",
       "      <td>-1.094296</td>\n",
       "      <td>-0.20816</td>\n",
       "      <td>0.0</td>\n",
       "      <td>0.0</td>\n",
       "      <td>0.0</td>\n",
       "      <td>...</td>\n",
       "      <td>0</td>\n",
       "      <td>0</td>\n",
       "      <td>0</td>\n",
       "      <td>0</td>\n",
       "      <td>1</td>\n",
       "      <td>0</td>\n",
       "      <td>0</td>\n",
       "      <td>0</td>\n",
       "      <td>0</td>\n",
       "      <td>0</td>\n",
       "    </tr>\n",
       "    <tr>\n",
       "      <th>192</th>\n",
       "      <td>-0.916414</td>\n",
       "      <td>-1.142158</td>\n",
       "      <td>-0.619959</td>\n",
       "      <td>-0.409033</td>\n",
       "      <td>-0.452286</td>\n",
       "      <td>0.802621</td>\n",
       "      <td>-0.20816</td>\n",
       "      <td>0.0</td>\n",
       "      <td>0.0</td>\n",
       "      <td>1.0</td>\n",
       "      <td>...</td>\n",
       "      <td>0</td>\n",
       "      <td>0</td>\n",
       "      <td>0</td>\n",
       "      <td>0</td>\n",
       "      <td>0</td>\n",
       "      <td>1</td>\n",
       "      <td>0</td>\n",
       "      <td>0</td>\n",
       "      <td>0</td>\n",
       "      <td>0</td>\n",
       "    </tr>\n",
       "  </tbody>\n",
       "</table>\n",
       "<p>5 rows × 54 columns</p>\n",
       "</div>"
      ],
      "text/plain": [
       "      income_am  profit_last_am  profit_am  damage_am  damage_inc  \\\n",
       "3780  -0.079047        0.518507  -0.609458  -0.409033   -0.452286   \n",
       "4586   1.113224        1.370074   1.087099  -0.409033   -0.452286   \n",
       "3261   1.009282        0.873504   0.096767  -0.409033   -0.452286   \n",
       "3457  -0.916414        0.990866  -0.688244  -0.409033   -0.452286   \n",
       "192   -0.916414       -1.142158  -0.619959  -0.409033   -0.452286   \n",
       "\n",
       "      crd_lim_rec  credit_use_ic  gluten_ic  lactose_ic  insurance_ic  ...  \\\n",
       "3780    -1.094296       -0.20816        0.0         0.0           0.0  ...   \n",
       "4586    -1.094296       -0.20816        0.0         1.0           0.0  ...   \n",
       "3261    -1.094296       -0.20816        0.0         0.0           0.0  ...   \n",
       "3457    -1.094296       -0.20816        0.0         0.0           0.0  ...   \n",
       "192      0.802621       -0.20816        0.0         0.0           1.0  ...   \n",
       "\n",
       "      client_segment_2.0  client_segment_3.0  client_segment_4.0  \\\n",
       "3780                   0                   0                   0   \n",
       "4586                   1                   0                   0   \n",
       "3261                   1                   0                   0   \n",
       "3457                   0                   0                   0   \n",
       "192                    0                   0                   0   \n",
       "\n",
       "      client_segment_5.0  sect_empl_0.0  sect_empl_1.0  sect_empl_2.0  \\\n",
       "3780                   0              1              0              0   \n",
       "4586                   0              1              0              0   \n",
       "3261                   0              1              0              0   \n",
       "3457                   0              1              0              0   \n",
       "192                    0              0              1              0   \n",
       "\n",
       "      sect_empl_3.0  sect_empl_4.0  sect_empl_6.0  \n",
       "3780              0              0              0  \n",
       "4586              0              0              0  \n",
       "3261              0              0              0  \n",
       "3457              0              0              0  \n",
       "192               0              0              0  \n",
       "\n",
       "[5 rows x 54 columns]"
      ]
     },
     "execution_count": 5,
     "metadata": {},
     "output_type": "execute_result"
    }
   ],
   "source": [
    "X_train_profit.head()"
   ]
  },
  {
   "cell_type": "code",
   "execution_count": 9,
   "metadata": {},
   "outputs": [
    {
     "name": "stdout",
     "output_type": "stream",
     "text": [
      "<class 'pandas.core.frame.DataFrame'>\n",
      "Int64Index: 3929 entries, 31 to 1896\n",
      "Data columns (total 54 columns):\n",
      " #   Column              Non-Null Count  Dtype  \n",
      "---  ------              --------------  -----  \n",
      " 0   income_am           3929 non-null   float64\n",
      " 1   profit_last_am      3929 non-null   float64\n",
      " 2   profit_am           3929 non-null   float64\n",
      " 3   damage_am           3929 non-null   float64\n",
      " 4   damage_inc          3929 non-null   float64\n",
      " 5   crd_lim_rec         3929 non-null   float64\n",
      " 6   credit_use_ic       3929 non-null   float64\n",
      " 7   gluten_ic           3929 non-null   float64\n",
      " 8   lactose_ic          3929 non-null   float64\n",
      " 9   insurance_ic        3929 non-null   float64\n",
      " 10  spa_ic              3929 non-null   float64\n",
      " 11  empl_ic             3929 non-null   float64\n",
      " 12  cab_requests        3929 non-null   float64\n",
      " 13  married_cd          3929 non-null   float64\n",
      " 14  bar_no              3929 non-null   float64\n",
      " 15  sport_ic            3929 non-null   float64\n",
      " 16  neighbor_income     3929 non-null   float64\n",
      " 17  age                 3929 non-null   float64\n",
      " 18  marketing_permit    3929 non-null   float64\n",
      " 19  urban_ic            3929 non-null   float64\n",
      " 20  dining_ic           3929 non-null   float64\n",
      " 21  presidential        3929 non-null   float64\n",
      " 22  prev_stay           3929 non-null   float64\n",
      " 23  prev_all_in_stay    3929 non-null   float64\n",
      " 24  divorce             3929 non-null   float64\n",
      " 25  fam_adult_size      3929 non-null   float64\n",
      " 26  children_no         3929 non-null   float64\n",
      " 27  tenure_mts          3929 non-null   float64\n",
      " 28  company_ic          3929 non-null   float64\n",
      " 29  claims_no           3929 non-null   float64\n",
      " 30  claims_am           3929 non-null   float64\n",
      " 31  nights_booked       3929 non-null   float64\n",
      " 32  shop_am             3929 non-null   float64\n",
      " 33  shop_use            3929 non-null   float64\n",
      " 34  retired             3929 non-null   float64\n",
      " 35  gold_status         3929 non-null   float64\n",
      " 36  score_pos           3929 non-null   float64\n",
      " 37  score_neg           3929 non-null   float64\n",
      " 38  missing_score_pos   3929 non-null   int64  \n",
      " 39  missing_score_neg   3929 non-null   int64  \n",
      " 40  gender_M            3929 non-null   int64  \n",
      " 41  gender_V            3929 non-null   int64  \n",
      " 42  client_segment_0.0  3929 non-null   int64  \n",
      " 43  client_segment_1.0  3929 non-null   int64  \n",
      " 44  client_segment_2.0  3929 non-null   int64  \n",
      " 45  client_segment_3.0  3929 non-null   int64  \n",
      " 46  client_segment_4.0  3929 non-null   int64  \n",
      " 47  client_segment_5.0  3929 non-null   int64  \n",
      " 48  sect_empl_0.0       3929 non-null   int64  \n",
      " 49  sect_empl_1.0       3929 non-null   int64  \n",
      " 50  sect_empl_2.0       3929 non-null   int64  \n",
      " 51  sect_empl_3.0       3929 non-null   int64  \n",
      " 52  sect_empl_4.0       3929 non-null   int64  \n",
      " 53  sect_empl_6.0       3929 non-null   int64  \n",
      "dtypes: float64(38), int64(16)\n",
      "memory usage: 1.6 MB\n"
     ]
    }
   ],
   "source": [
    "X_train_profit.info()"
   ]
  },
  {
   "cell_type": "markdown",
   "metadata": {},
   "source": [
    "# 1. Decision trees"
   ]
  },
  {
   "cell_type": "markdown",
   "metadata": {},
   "source": [
    "Perform a decision tree with a max depth of 12 because 2^12 > 3929"
   ]
  },
  {
   "cell_type": "code",
   "execution_count": 15,
   "metadata": {},
   "outputs": [],
   "source": [
    "from sklearn.tree import DecisionTreeRegressor  \n",
    "from sklearn.model_selection import cross_val_score\n",
    "\n",
    "depth = np.arange(1,13)    # This will give an array of numbers between 1 and 13\n",
    "cv_scores = []\n",
    "sd_scores = []\n",
    "\n",
    "for d in depth:\n",
    "    dec_tree = DecisionTreeRegressor(random_state = 123, max_depth=d)  \n",
    "    scores = cross_val_score(dec_tree, X_train_profit, y_train_profit,  cv=5)\n",
    "    cv_scores.append(scores.mean())\n",
    "    sd_scores.append(np.sqrt(scores.var())/np.sqrt(5))"
   ]
  },
  {
   "cell_type": "code",
   "execution_count": 16,
   "metadata": {},
   "outputs": [
    {
     "data": {
      "image/png": "[encoded data removed]",
      "text/plain": [
       "<Figure size 432x288 with 1 Axes>"
      ]
     },
     "metadata": {},
     "output_type": "display_data"
    },
    {
     "name": "stdout",
     "output_type": "stream",
     "text": [
      "The best depth is 6\n"
     ]
    }
   ],
   "source": [
    "max_value = max(cv_scores)\n",
    "max_index = cv_scores.index(max_value)\n",
    "\n",
    "plt.plot(depth, cv_scores)\n",
    "plt.xlabel('depth')\n",
    "plt.ylabel('R^2')\n",
    "plt.axhline(y=max_value-1.96*sd_scores[max_index])\n",
    "\n",
    "plt.show()\n",
    "print('The best depth is', depth[max_index])"
   ]
  },
  {
   "cell_type": "markdown",
   "metadata": {},
   "source": [
    "5 is the best model to predict the profit outcome, it's also the most simple model."
   ]
  },
  {
   "cell_type": "code",
   "execution_count": 19,
   "metadata": {},
   "outputs": [
    {
     "name": "stdout",
     "output_type": "stream",
     "text": [
      "0.5537430622601316\n"
     ]
    }
   ],
   "source": [
    "from sklearn import tree \n",
    "\n",
    "dec_tree_profit = DecisionTreeRegressor(random_state = 123, max_depth=5)  \n",
    "dec_tree_profit.fit(X_train_profit, y_train_profit) \n",
    "print(dec_tree_profit.score(X_train_profit, y_train_profit))"
   ]
  },
  {
   "cell_type": "markdown",
   "metadata": {},
   "source": [
    "# 2. Random forest"
   ]
  },
  {
   "cell_type": "markdown",
   "metadata": {},
   "source": [
    "# 2.1 Random search"
   ]
  },
  {
   "cell_type": "code",
   "execution_count": 18,
   "metadata": {},
   "outputs": [
    {
     "name": "stdout",
     "output_type": "stream",
     "text": [
      "Fitting 5 folds for each of 100 candidates, totalling 500 fits\n"
     ]
    },
    {
     "data": {
      "text/plain": [
       "RandomizedSearchCV(cv=5, estimator=RandomForestRegressor(), n_iter=100,\n",
       "                   n_jobs=-1,\n",
       "                   param_distributions={'criterion': ['mse', 'mae'],\n",
       "                                        'max_depth': [1, 2, 3, 4, 5, 6, 7, 8, 9,\n",
       "                                                      10],\n",
       "                                        'max_features': ['auto', 'sqrt',\n",
       "                                                         'log2'],\n",
       "                                        'max_leaf_nodes': [10, 11, 12, 13, 14,\n",
       "                                                           15, 16, 17, 18, 19,\n",
       "                                                           20, 21, 22, 23, 24,\n",
       "                                                           25, 26, 27, 28, 29,\n",
       "                                                           30, 31, 32, 33, 34,\n",
       "                                                           35, 36, 37, 38, 39, ...],\n",
       "                                        'min_samples_leaf': [1, 2, 3, 4, 5, 6,\n",
       "                                                             7, 8, 9, 10],\n",
       "                                        'min_samples_split': [2, 3, 4, 5, 6, 7,\n",
       "                                                              8, 9, 10],\n",
       "                                        'n_estimators': [100, 101, 102, 103,\n",
       "                                                         104, 105, 106, 107,\n",
       "                                                         108, 109, 110, 111,\n",
       "                                                         112, 113, 114, 115,\n",
       "                                                         116, 117, 118, 119,\n",
       "                                                         120, 121, 122, 123,\n",
       "                                                         124, 125, 126, 127,\n",
       "                                                         128, 129, ...]},\n",
       "                   random_state=42, verbose=20)"
      ]
     },
     "execution_count": 18,
     "metadata": {},
     "output_type": "execute_result"
    }
   ],
   "source": [
    "from sklearn.model_selection import RandomizedSearchCV\n",
    "from sklearn.ensemble import RandomForestRegressor\n",
    "\n",
    "criterion =['mse','mae']\n",
    "n_estimators = [int(x) for x in np.linspace(start = 100, stop = 500, num = 400)]\n",
    "max_features = ['auto', 'sqrt', 'log2']\n",
    "max_depth = [int(x) for x in np.linspace(1, 10, num = 10)]\n",
    "min_samples_split = [int(x) for x in np.linspace(2, 10, num = 9)]\n",
    "min_samples_leaf = [int(x) for x in np.linspace(1, 10, num = 10)]\n",
    "max_leaf_nodes = [int(x) for x in np.linspace(10, 500, num = 490)]\n",
    "\n",
    "# create the random grid to search for best hyperparameters\n",
    "random_grid = {'criterion': criterion,\n",
    "               'n_estimators': n_estimators,\n",
    "               'max_features': max_features,\n",
    "               'max_depth': max_depth,\n",
    "               'min_samples_split': min_samples_split,\n",
    "               'min_samples_leaf': min_samples_leaf,\n",
    "               'max_leaf_nodes': max_leaf_nodes}\n",
    "\n",
    "rf_profit = RandomForestRegressor()\n",
    "rf_profit_random = RandomizedSearchCV(estimator = rf_profit, param_distributions = random_grid, n_iter = 100, \n",
    "                               cv = 5, verbose=20, random_state=42, n_jobs=-1)\n",
    "rf_profit_random.fit(X_train_profit, y_train_profit)"
   ]
  },
  {
   "cell_type": "markdown",
   "metadata": {},
   "source": [
    "## 2.2 Test best model"
   ]
  },
  {
   "cell_type": "code",
   "execution_count": 40,
   "metadata": {},
   "outputs": [
    {
     "name": "stdout",
     "output_type": "stream",
     "text": [
      "0.7280740622737641\n"
     ]
    }
   ],
   "source": [
    "print(rf_profit_random.score(X_train_profit, y_train_profit))"
   ]
  },
  {
   "cell_type": "markdown",
   "metadata": {},
   "source": [
    "## 2.3 Print out the parameters of the best model"
   ]
  },
  {
   "cell_type": "code",
   "execution_count": 41,
   "metadata": {},
   "outputs": [
    {
     "data": {
      "text/plain": [
       "{'n_estimators': 238,\n",
       " 'min_samples_split': 8,\n",
       " 'min_samples_leaf': 6,\n",
       " 'max_leaf_nodes': 124,\n",
       " 'max_features': 'auto',\n",
       " 'max_depth': 10,\n",
       " 'criterion': 'mse'}"
      ]
     },
     "execution_count": 41,
     "metadata": {},
     "output_type": "execute_result"
    }
   ],
   "source": [
    "rf_profit_random.best_params_"
   ]
  },
  {
   "cell_type": "markdown",
   "metadata": {},
   "source": [
    "## 2.4 Plot all the results for the hyperparameters"
   ]
  },
  {
   "cell_type": "code",
   "execution_count": 42,
   "metadata": {},
   "outputs": [
    {
     "data": {
      "image/png": "[encoded data removed]",
      "text/plain": [
       "<Figure size 1440x720 with 9 Axes>"
      ]
     },
     "metadata": {},
     "output_type": "display_data"
    }
   ],
   "source": [
    "out = pd.DataFrame(rf_profit_random.cv_results_)\n",
    "\n",
    "xlabel_names = ['param_max_depth','param_min_samples_split','param_min_samples_leaf','param_n_estimators',\n",
    "                'param_max_features', 'param_max_leaf_nodes', 'param_criterion']\n",
    "\n",
    "fig, axs = plt.subplots(3,3, figsize=(20,10))\n",
    "\n",
    "axs[0,0].scatter(out['param_max_depth'], out['mean_test_score'], c='blue');\n",
    "axs[0,0].set_title('max_depth')\n",
    "\n",
    "axs[0,1].scatter(out['param_min_samples_split'], out['mean_test_score'], c='blue');\n",
    "axs[0,1].set_title('min_samples_split')\n",
    "\n",
    "axs[0,2].scatter(out['param_min_samples_leaf'], out['mean_test_score'], c='blue');\n",
    "axs[0,2].set_title('min_samples_leaf')\n",
    "\n",
    "axs[1,0].scatter(out['param_n_estimators'], out['mean_test_score'], c='blue');\n",
    "axs[1,0].set_title('n_estimators')\n",
    "\n",
    "axs[1,1].scatter(out['param_max_features'], out['mean_test_score'], c='blue');\n",
    "axs[1,1].set_title('max_features')\n",
    "\n",
    "axs[1,2].scatter(out['param_max_leaf_nodes'], out['mean_test_score'], c='blue');\n",
    "axs[1,2].set_title('max_leaf_nodes')\n",
    "\n",
    "axs[2,0].scatter(out['param_criterion'], out['mean_test_score'], c='blue');\n",
    "axs[2,0].set_title('criterion')\n",
    "\n",
    "for ax in axs.flat:\n",
    "    ax.set(ylabel='r_squared')"
   ]
  },
  {
   "cell_type": "code",
   "execution_count": 43,
   "metadata": {},
   "outputs": [],
   "source": [
    "out = out[out.mean_test_score > 0.5]"
   ]
  },
  {
   "cell_type": "markdown",
   "metadata": {},
   "source": [
    "__note__: Plots downstairs are only the results where the R2 is above 0.5"
   ]
  },
  {
   "cell_type": "markdown",
   "metadata": {},
   "source": [
    "### 2.4.1 The results for max_depth where R2 is above 0.5"
   ]
  },
  {
   "cell_type": "code",
   "execution_count": 44,
   "metadata": {},
   "outputs": [
    {
     "data": {
      "image/png": "[encoded data removed]",
      "text/plain": [
       "<Figure size 576x432 with 1 Axes>"
      ]
     },
     "metadata": {},
     "output_type": "display_data"
    }
   ],
   "source": [
    "fig, ax = plt.subplots(figsize=(8, 6))\n",
    "ax.scatter(out['param_max_depth'], out['mean_test_score'], c='blue');\n",
    "ax.set_xlabel(\"max_depth\");\n",
    "ax.set_ylabel(\"r_squared\");"
   ]
  },
  {
   "cell_type": "markdown",
   "metadata": {},
   "source": [
    "We can see that the best depth is 10, but 9 does not perform much worse. We prefer models that are less complex. Here, that means models that are less deep. So, we chose 9 and 10 to go in the grid search."
   ]
  },
  {
   "cell_type": "markdown",
   "metadata": {},
   "source": [
    "### 2.4.2 The results for min_samples_split where R2 is above 0.5"
   ]
  },
  {
   "cell_type": "code",
   "execution_count": 45,
   "metadata": {},
   "outputs": [
    {
     "data": {
      "image/png": "[encoded data removed]",
      "text/plain": [
       "<Figure size 576x432 with 1 Axes>"
      ]
     },
     "metadata": {},
     "output_type": "display_data"
    }
   ],
   "source": [
    "fig, ax = plt.subplots(figsize=(8, 6))\n",
    "ax.scatter(out['param_min_samples_split'], out['mean_test_score'], c='blue');\n",
    "ax.set_xlabel(\"min_samples_split\");\n",
    "ax.set_ylabel(\"r_squared\");"
   ]
  },
  {
   "cell_type": "markdown",
   "metadata": {},
   "source": [
    "We can see that the best value is 8, but 5 and 10 do not perform much worse. We prefer models that are less complex. Here, that means models that have a higher minimum number of samples to allow splitting. So, we chose 5, 8 and 10 to go in the grid search."
   ]
  },
  {
   "cell_type": "markdown",
   "metadata": {},
   "source": [
    "### 2.4.3 The results for min_samples_leaf where R2 is above 0.5"
   ]
  },
  {
   "cell_type": "code",
   "execution_count": 46,
   "metadata": {},
   "outputs": [
    {
     "data": {
      "image/png": "[encoded data removed]",
      "text/plain": [
       "<Figure size 576x432 with 1 Axes>"
      ]
     },
     "metadata": {},
     "output_type": "display_data"
    }
   ],
   "source": [
    "fig, ax = plt.subplots(figsize=(8, 6))\n",
    "ax.scatter(out['param_min_samples_leaf'], out['mean_test_score'], c='blue');\n",
    "ax.set_xlabel(\"min_samples_leaf\");\n",
    "ax.set_ylabel(\"r_squared\");"
   ]
  },
  {
   "cell_type": "markdown",
   "metadata": {},
   "source": [
    "6 leads to the best R2, but 8 is not that much worse. We prefer a higher number of samples in a leaf because it makes the model less complex. So, we chose 6 and 8 to go in the grid search."
   ]
  },
  {
   "cell_type": "markdown",
   "metadata": {},
   "source": [
    "### 2.4.4 The results for n_estimators where R2 is above 0.5"
   ]
  },
  {
   "cell_type": "code",
   "execution_count": 47,
   "metadata": {},
   "outputs": [
    {
     "data": {
      "image/png": "[encoded data removed]",
      "text/plain": [
       "<Figure size 576x432 with 1 Axes>"
      ]
     },
     "metadata": {},
     "output_type": "display_data"
    }
   ],
   "source": [
    "fig, ax = plt.subplots(figsize=(8, 6))\n",
    "ax.scatter(out['param_n_estimators'], out['mean_test_score'], c='blue');\n",
    "ax.set_xlabel(\"n_estimators\");\n",
    "ax.set_ylabel(\"r_squared\");"
   ]
  },
  {
   "cell_type": "markdown",
   "metadata": {},
   "source": [
    "The best value was with 238 trees. We onlly chose 238 to add to the grid search."
   ]
  },
  {
   "cell_type": "markdown",
   "metadata": {},
   "source": [
    "### 2.4.5 The results for max_features where R2 is above 0.5"
   ]
  },
  {
   "cell_type": "code",
   "execution_count": 48,
   "metadata": {},
   "outputs": [
    {
     "data": {
      "image/png": "[encoded data removed]",
      "text/plain": [
       "<Figure size 576x432 with 1 Axes>"
      ]
     },
     "metadata": {},
     "output_type": "display_data"
    }
   ],
   "source": [
    "fig, ax = plt.subplots(figsize=(8, 6))\n",
    "ax.scatter(out['param_max_features'], out['mean_test_score'], c='blue');\n",
    "ax.set_xlabel(\"max_features\");\n",
    "ax.set_ylabel(\"r_squared\");"
   ]
  },
  {
   "cell_type": "markdown",
   "metadata": {},
   "source": [
    "Auto clearly wins here, so let's just go with that."
   ]
  },
  {
   "cell_type": "markdown",
   "metadata": {},
   "source": [
    "### 2.4.6 The results for max_leaf_nodes where R2 is above 0.5"
   ]
  },
  {
   "cell_type": "code",
   "execution_count": 49,
   "metadata": {},
   "outputs": [
    {
     "data": {
      "image/png": "[encoded data removed]",
      "text/plain": [
       "<Figure size 576x432 with 1 Axes>"
      ]
     },
     "metadata": {},
     "output_type": "display_data"
    }
   ],
   "source": [
    "fig, ax = plt.subplots(figsize=(8, 6))\n",
    "ax.scatter(out['param_max_leaf_nodes'], out['mean_test_score'], c='blue');\n",
    "ax.set_xlabel(\"max_leaf_nodes\");\n",
    "ax.set_ylabel(\"r_squared\");"
   ]
  },
  {
   "cell_type": "markdown",
   "metadata": {},
   "source": [
    "The best max_leaf_nodes was 124. So, we chose only 124 to add to the grid search."
   ]
  },
  {
   "cell_type": "markdown",
   "metadata": {},
   "source": [
    "### 2.4.7 The results for criterion where R2 is above 0.5"
   ]
  },
  {
   "cell_type": "code",
   "execution_count": 50,
   "metadata": {},
   "outputs": [
    {
     "data": {
      "image/png": "[encoded data removed]",
      "text/plain": [
       "<Figure size 576x432 with 1 Axes>"
      ]
     },
     "metadata": {},
     "output_type": "display_data"
    }
   ],
   "source": [
    "fig, ax = plt.subplots(figsize=(8, 6))\n",
    "ax.scatter(out['param_criterion'], out['mean_test_score'], c='blue');\n",
    "ax.set_xlabel(\"criterion\");\n",
    "ax.set_ylabel(\"r_squared\");"
   ]
  },
  {
   "cell_type": "markdown",
   "metadata": {},
   "source": [
    "Mse had the best score, we only add 'mse' to the grid search."
   ]
  },
  {
   "cell_type": "markdown",
   "metadata": {},
   "source": [
    "## 2.5 Grid search"
   ]
  },
  {
   "cell_type": "code",
   "execution_count": 51,
   "metadata": {},
   "outputs": [
    {
     "name": "stdout",
     "output_type": "stream",
     "text": [
      "Fitting 5 folds for each of 12 candidates, totalling 60 fits\n"
     ]
    },
    {
     "data": {
      "text/plain": [
       "GridSearchCV(cv=5, estimator=RandomForestRegressor(), n_jobs=-1,\n",
       "             param_grid={'criterion': ['mse'], 'max_depth': [9, 10],\n",
       "                         'max_features': ['auto'], 'max_leaf_nodes': [124],\n",
       "                         'min_samples_leaf': [6, 8],\n",
       "                         'min_samples_split': [5, 8, 10],\n",
       "                         'n_estimators': [238]},\n",
       "             verbose=10)"
      ]
     },
     "execution_count": 51,
     "metadata": {},
     "output_type": "execute_result"
    }
   ],
   "source": [
    "from sklearn.model_selection import GridSearchCV\n",
    "from sklearn.ensemble import RandomForestRegressor\n",
    "\n",
    "criterion =['mse']\n",
    "n_estimators = [238]\n",
    "max_features = ['auto']\n",
    "max_depth = [9,10]\n",
    "min_samples_split = [5,8,10]\n",
    "min_samples_leaf = [6,8]\n",
    "max_leaf_nodes = [124]\n",
    "\n",
    "grid = {'criterion': criterion,\n",
    "               'n_estimators': n_estimators,\n",
    "               'max_features': max_features,\n",
    "                'max_leaf_nodes': max_leaf_nodes,\n",
    "               'max_depth': max_depth,\n",
    "               'min_samples_split': min_samples_split,\n",
    "               'min_samples_leaf': min_samples_leaf}\n",
    "\n",
    "rf = RandomForestRegressor()\n",
    "rf_grid = GridSearchCV(estimator = rf, param_grid = grid,\n",
    "                               cv = 5, verbose=10,  n_jobs=-1)\n",
    "\n",
    "rf_grid.fit(X_train_profit, y_train_profit)"
   ]
  },
  {
   "cell_type": "code",
   "execution_count": 52,
   "metadata": {},
   "outputs": [
    {
     "data": {
      "text/plain": [
       "{'criterion': 'mse',\n",
       " 'max_depth': 10,\n",
       " 'max_features': 'auto',\n",
       " 'max_leaf_nodes': 124,\n",
       " 'min_samples_leaf': 6,\n",
       " 'min_samples_split': 10,\n",
       " 'n_estimators': 238}"
      ]
     },
     "execution_count": 52,
     "metadata": {},
     "output_type": "execute_result"
    }
   ],
   "source": [
    "rf_grid.best_params_"
   ]
  },
  {
   "cell_type": "markdown",
   "metadata": {},
   "source": [
    "What has been imporved by the grid search. Only the min_samples_split has been changed from 8 tot 10. This makes for a less complex model which makes for less bias and variance. "
   ]
  },
  {
   "cell_type": "code",
   "execution_count": 53,
   "metadata": {},
   "outputs": [
    {
     "name": "stdout",
     "output_type": "stream",
     "text": [
      "R2: 0.727\n"
     ]
    }
   ],
   "source": [
    "params = rf_grid.best_params_\n",
    "rf_gridBest = RandomForestRegressor(**params)\n",
    "rf_gridBest.fit(X_train_profit, y_train_profit)\n",
    "print('R2: %.3f' % rf_gridBest.score(X_train_profit, y_train_profit))"
   ]
  },
  {
   "cell_type": "markdown",
   "metadata": {},
   "source": [
    "The R2 decreased slightly. This is because the model has become less complex. We hope to better predict the test-dataset this way."
   ]
  },
  {
   "cell_type": "markdown",
   "metadata": {},
   "source": [
    "# 3. Whitening the black box"
   ]
  },
  {
   "cell_type": "markdown",
   "metadata": {},
   "source": [
    "##  3.1 Which features are important?"
   ]
  },
  {
   "cell_type": "code",
   "execution_count": 54,
   "metadata": {},
   "outputs": [
    {
     "data": {
      "text/plain": [
       "[('income_am', 0.02876238953242278),\n",
       " ('profit_last_am', 0.014982008080961041),\n",
       " ('profit_am', 0.32419542614330954),\n",
       " ('damage_am', 0.05436032729321538),\n",
       " ('damage_inc', 0.0035449623613679933),\n",
       " ('crd_lim_rec', 0.007011673531947207),\n",
       " ('credit_use_ic', 0.0010566324918233597),\n",
       " ('gluten_ic', 6.581631561206285e-05),\n",
       " ('lactose_ic', 0.0007024586978275782),\n",
       " ('insurance_ic', 0.0030860061314144913),\n",
       " ('spa_ic', 0.0025917723009084687),\n",
       " ('empl_ic', 0.00022616123574497696),\n",
       " ('cab_requests', 0.021956122713457985),\n",
       " ('married_cd', 0.0009245080752992291),\n",
       " ('bar_no', 0.007146278350093109),\n",
       " ('sport_ic', 0.0015623316991980236),\n",
       " ('neighbor_income', 5.365260803011576e-05),\n",
       " ('age', 0.019143551809872737),\n",
       " ('marketing_permit', 0.00385194145136813),\n",
       " ('urban_ic', 0.007832914353338587),\n",
       " ('dining_ic', 0.00010515393449985205),\n",
       " ('presidential', 0.0010421559704465238),\n",
       " ('prev_stay', 0.00567071385967688),\n",
       " ('prev_all_in_stay', 0.0010349097464146405),\n",
       " ('divorce', 0.0005797677112855909),\n",
       " ('fam_adult_size', 0.0017362857598887766),\n",
       " ('children_no', 0.010060909684247476),\n",
       " ('tenure_mts', 0.028286919898073054),\n",
       " ('company_ic', 1.5553674693758316e-05),\n",
       " ('claims_no', 0.0009544588751931159),\n",
       " ('claims_am', 0.00015171947848863294),\n",
       " ('nights_booked', 0.36700310297563127),\n",
       " ('shop_am', 0.01723215880568284),\n",
       " ('shop_use', 0.000936979168576328),\n",
       " ('retired', 0.00042342159273890407),\n",
       " ('gold_status', 0.002771414292996426),\n",
       " ('score_pos', 0.0214144733340171),\n",
       " ('score_neg', 0.010178515771272616),\n",
       " ('missing_score_pos', 0.0015072458600961672),\n",
       " ('missing_score_neg', 0.0011537675315779407),\n",
       " ('gender_M', 0.010948374585935675),\n",
       " ('gender_V', 0.011695022448630328),\n",
       " ('client_segment_0.0', 0.0001504127582233964),\n",
       " ('client_segment_1.0', 0.00044394727161332453),\n",
       " ('client_segment_2.0', 0.00034583926049112235),\n",
       " ('client_segment_3.0', 0.00023555247471714814),\n",
       " ('client_segment_4.0', 0.0),\n",
       " ('client_segment_5.0', 1.2657902697002296e-05),\n",
       " ('sect_empl_0.0', 0.0005407921616438862),\n",
       " ('sect_empl_1.0', 0.00030195548635730135),\n",
       " ('sect_empl_2.0', 0.0),\n",
       " ('sect_empl_3.0', 0.0),\n",
       " ('sect_empl_4.0', 8.88254698014635e-06),\n",
       " ('sect_empl_6.0', 0.0)]"
      ]
     },
     "execution_count": 54,
     "metadata": {},
     "output_type": "execute_result"
    }
   ],
   "source": [
    "list(zip(X_train_profit.columns, rf_gridBest.feature_importances_))"
   ]
  },
  {
   "cell_type": "markdown",
   "metadata": {},
   "source": [
    "This is not easy to read, so it is better to plot this. But first, let's check if the sum of all feature importances is indeed 1."
   ]
  },
  {
   "cell_type": "code",
   "execution_count": 55,
   "metadata": {},
   "outputs": [
    {
     "data": {
      "text/plain": [
       "1.0"
      ]
     },
     "execution_count": 55,
     "metadata": {},
     "output_type": "execute_result"
    }
   ],
   "source": [
    "rf_gridBest.feature_importances_.sum()"
   ]
  },
  {
   "cell_type": "code",
   "execution_count": 56,
   "metadata": {},
   "outputs": [
    {
     "data": {
      "image/png": "[encoded data removed]",
      "text/plain": [
       "<Figure size 1440x720 with 1 Axes>"
      ]
     },
     "metadata": {},
     "output_type": "display_data"
    }
   ],
   "source": [
    "from matplotlib import pyplot as plt\n",
    "\n",
    "plt.figure(figsize=(20,10))\n",
    "\n",
    "feat_importances = pd.Series(rf_gridBest.feature_importances_, index=X.columns)\n",
    "feat_importances.nlargest(11).plot(kind='barh')\n",
    "plt.show()"
   ]
  },
  {
   "cell_type": "markdown",
   "metadata": {},
   "source": [
    "So, the four features that seem to have the most influence in our algorithm are income_am, damage_am, nights_booked and profit_am.\n",
    "\n",
    "These predictions seems logical in context. The number of bookings and the profit made by the previous(other than the last) hotels play an important role in this prediction. The longer you stay, the more you have to pay also speaks for itself. Also the more you earn, the less you hurt yourself to spend a little more in a hotel. \n",
    "But we are carefull with making assumptions like that. There is always a chance that we are wrong. So we have to check the directions of the influences."
   ]
  },
  {
   "cell_type": "markdown",
   "metadata": {},
   "source": [
    "### 3.2 What is the influence of a certain feature?"
   ]
  },
  {
   "cell_type": "code",
   "execution_count": 57,
   "metadata": {},
   "outputs": [],
   "source": [
    "pred_train =rf_gridBest.predict(X_train_profit)"
   ]
  },
  {
   "cell_type": "code",
   "execution_count": 58,
   "metadata": {},
   "outputs": [
    {
     "data": {
      "text/html": [
       "<div>\n",
       "<style scoped>\n",
       "    .dataframe tbody tr th:only-of-type {\n",
       "        vertical-align: middle;\n",
       "    }\n",
       "\n",
       "    .dataframe tbody tr th {\n",
       "        vertical-align: top;\n",
       "    }\n",
       "\n",
       "    .dataframe thead th {\n",
       "        text-align: right;\n",
       "    }\n",
       "</style>\n",
       "<table border=\"1\" class=\"dataframe\">\n",
       "  <thead>\n",
       "    <tr style=\"text-align: right;\">\n",
       "      <th></th>\n",
       "      <th>0</th>\n",
       "      <th>1</th>\n",
       "    </tr>\n",
       "  </thead>\n",
       "  <tbody>\n",
       "    <tr>\n",
       "      <th>0</th>\n",
       "      <td>income_am</td>\n",
       "      <td>0.254469</td>\n",
       "    </tr>\n",
       "    <tr>\n",
       "      <th>0</th>\n",
       "      <td>profit_last_am</td>\n",
       "      <td>0.091533</td>\n",
       "    </tr>\n",
       "    <tr>\n",
       "      <th>0</th>\n",
       "      <td>profit_am</td>\n",
       "      <td>0.352298</td>\n",
       "    </tr>\n",
       "    <tr>\n",
       "      <th>0</th>\n",
       "      <td>damage_am</td>\n",
       "      <td>0.133870</td>\n",
       "    </tr>\n",
       "    <tr>\n",
       "      <th>0</th>\n",
       "      <td>damage_inc</td>\n",
       "      <td>0.072385</td>\n",
       "    </tr>\n",
       "    <tr>\n",
       "      <th>0</th>\n",
       "      <td>crd_lim_rec</td>\n",
       "      <td>-0.232554</td>\n",
       "    </tr>\n",
       "    <tr>\n",
       "      <th>0</th>\n",
       "      <td>credit_use_ic</td>\n",
       "      <td>0.005160</td>\n",
       "    </tr>\n",
       "    <tr>\n",
       "      <th>0</th>\n",
       "      <td>gluten_ic</td>\n",
       "      <td>0.533617</td>\n",
       "    </tr>\n",
       "    <tr>\n",
       "      <th>0</th>\n",
       "      <td>lactose_ic</td>\n",
       "      <td>0.579169</td>\n",
       "    </tr>\n",
       "    <tr>\n",
       "      <th>0</th>\n",
       "      <td>insurance_ic</td>\n",
       "      <td>-0.229077</td>\n",
       "    </tr>\n",
       "    <tr>\n",
       "      <th>0</th>\n",
       "      <td>spa_ic</td>\n",
       "      <td>-0.008091</td>\n",
       "    </tr>\n",
       "    <tr>\n",
       "      <th>0</th>\n",
       "      <td>empl_ic</td>\n",
       "      <td>-0.070959</td>\n",
       "    </tr>\n",
       "    <tr>\n",
       "      <th>0</th>\n",
       "      <td>cab_requests</td>\n",
       "      <td>-0.050136</td>\n",
       "    </tr>\n",
       "    <tr>\n",
       "      <th>0</th>\n",
       "      <td>married_cd</td>\n",
       "      <td>-0.002146</td>\n",
       "    </tr>\n",
       "    <tr>\n",
       "      <th>0</th>\n",
       "      <td>bar_no</td>\n",
       "      <td>-0.020101</td>\n",
       "    </tr>\n",
       "    <tr>\n",
       "      <th>0</th>\n",
       "      <td>sport_ic</td>\n",
       "      <td>0.004077</td>\n",
       "    </tr>\n",
       "    <tr>\n",
       "      <th>0</th>\n",
       "      <td>neighbor_income</td>\n",
       "      <td>0.276592</td>\n",
       "    </tr>\n",
       "    <tr>\n",
       "      <th>0</th>\n",
       "      <td>age</td>\n",
       "      <td>0.008605</td>\n",
       "    </tr>\n",
       "    <tr>\n",
       "      <th>0</th>\n",
       "      <td>marketing_permit</td>\n",
       "      <td>0.005683</td>\n",
       "    </tr>\n",
       "    <tr>\n",
       "      <th>0</th>\n",
       "      <td>urban_ic</td>\n",
       "      <td>0.283652</td>\n",
       "    </tr>\n",
       "    <tr>\n",
       "      <th>0</th>\n",
       "      <td>dining_ic</td>\n",
       "      <td>-0.024911</td>\n",
       "    </tr>\n",
       "    <tr>\n",
       "      <th>0</th>\n",
       "      <td>presidential</td>\n",
       "      <td>0.895653</td>\n",
       "    </tr>\n",
       "    <tr>\n",
       "      <th>0</th>\n",
       "      <td>prev_stay</td>\n",
       "      <td>0.255756</td>\n",
       "    </tr>\n",
       "    <tr>\n",
       "      <th>0</th>\n",
       "      <td>prev_all_in_stay</td>\n",
       "      <td>-0.118826</td>\n",
       "    </tr>\n",
       "    <tr>\n",
       "      <th>0</th>\n",
       "      <td>divorce</td>\n",
       "      <td>0.042774</td>\n",
       "    </tr>\n",
       "    <tr>\n",
       "      <th>0</th>\n",
       "      <td>fam_adult_size</td>\n",
       "      <td>0.010418</td>\n",
       "    </tr>\n",
       "    <tr>\n",
       "      <th>0</th>\n",
       "      <td>children_no</td>\n",
       "      <td>0.005409</td>\n",
       "    </tr>\n",
       "    <tr>\n",
       "      <th>0</th>\n",
       "      <td>tenure_mts</td>\n",
       "      <td>-0.013646</td>\n",
       "    </tr>\n",
       "    <tr>\n",
       "      <th>0</th>\n",
       "      <td>company_ic</td>\n",
       "      <td>0.309195</td>\n",
       "    </tr>\n",
       "    <tr>\n",
       "      <th>0</th>\n",
       "      <td>claims_no</td>\n",
       "      <td>0.012013</td>\n",
       "    </tr>\n",
       "    <tr>\n",
       "      <th>0</th>\n",
       "      <td>claims_am</td>\n",
       "      <td>-0.013029</td>\n",
       "    </tr>\n",
       "    <tr>\n",
       "      <th>0</th>\n",
       "      <td>nights_booked</td>\n",
       "      <td>-0.560848</td>\n",
       "    </tr>\n",
       "    <tr>\n",
       "      <th>0</th>\n",
       "      <td>shop_am</td>\n",
       "      <td>0.064340</td>\n",
       "    </tr>\n",
       "    <tr>\n",
       "      <th>0</th>\n",
       "      <td>shop_use</td>\n",
       "      <td>0.151397</td>\n",
       "    </tr>\n",
       "    <tr>\n",
       "      <th>0</th>\n",
       "      <td>retired</td>\n",
       "      <td>-0.010107</td>\n",
       "    </tr>\n",
       "    <tr>\n",
       "      <th>0</th>\n",
       "      <td>gold_status</td>\n",
       "      <td>0.970171</td>\n",
       "    </tr>\n",
       "    <tr>\n",
       "      <th>0</th>\n",
       "      <td>score_pos</td>\n",
       "      <td>-0.061983</td>\n",
       "    </tr>\n",
       "    <tr>\n",
       "      <th>0</th>\n",
       "      <td>score_neg</td>\n",
       "      <td>-0.045518</td>\n",
       "    </tr>\n",
       "    <tr>\n",
       "      <th>0</th>\n",
       "      <td>missing_score_pos</td>\n",
       "      <td>-0.104618</td>\n",
       "    </tr>\n",
       "    <tr>\n",
       "      <th>0</th>\n",
       "      <td>missing_score_neg</td>\n",
       "      <td>-0.121853</td>\n",
       "    </tr>\n",
       "    <tr>\n",
       "      <th>0</th>\n",
       "      <td>gender_M</td>\n",
       "      <td>0.319908</td>\n",
       "    </tr>\n",
       "    <tr>\n",
       "      <th>0</th>\n",
       "      <td>gender_V</td>\n",
       "      <td>-0.319908</td>\n",
       "    </tr>\n",
       "    <tr>\n",
       "      <th>0</th>\n",
       "      <td>client_segment_0.0</td>\n",
       "      <td>0.051254</td>\n",
       "    </tr>\n",
       "    <tr>\n",
       "      <th>0</th>\n",
       "      <td>client_segment_1.0</td>\n",
       "      <td>-0.367208</td>\n",
       "    </tr>\n",
       "    <tr>\n",
       "      <th>0</th>\n",
       "      <td>client_segment_2.0</td>\n",
       "      <td>0.127599</td>\n",
       "    </tr>\n",
       "    <tr>\n",
       "      <th>0</th>\n",
       "      <td>client_segment_3.0</td>\n",
       "      <td>0.697859</td>\n",
       "    </tr>\n",
       "    <tr>\n",
       "      <th>0</th>\n",
       "      <td>client_segment_4.0</td>\n",
       "      <td>0.223441</td>\n",
       "    </tr>\n",
       "    <tr>\n",
       "      <th>0</th>\n",
       "      <td>client_segment_5.0</td>\n",
       "      <td>1.823876</td>\n",
       "    </tr>\n",
       "    <tr>\n",
       "      <th>0</th>\n",
       "      <td>sect_empl_0.0</td>\n",
       "      <td>-0.127556</td>\n",
       "    </tr>\n",
       "    <tr>\n",
       "      <th>0</th>\n",
       "      <td>sect_empl_1.0</td>\n",
       "      <td>0.093318</td>\n",
       "    </tr>\n",
       "    <tr>\n",
       "      <th>0</th>\n",
       "      <td>sect_empl_2.0</td>\n",
       "      <td>-0.067082</td>\n",
       "    </tr>\n",
       "    <tr>\n",
       "      <th>0</th>\n",
       "      <td>sect_empl_3.0</td>\n",
       "      <td>-0.007244</td>\n",
       "    </tr>\n",
       "    <tr>\n",
       "      <th>0</th>\n",
       "      <td>sect_empl_4.0</td>\n",
       "      <td>0.296488</td>\n",
       "    </tr>\n",
       "    <tr>\n",
       "      <th>0</th>\n",
       "      <td>sect_empl_6.0</td>\n",
       "      <td>0.350517</td>\n",
       "    </tr>\n",
       "  </tbody>\n",
       "</table>\n",
       "</div>"
      ],
      "text/plain": [
       "                    0         1\n",
       "0           income_am  0.254469\n",
       "0      profit_last_am  0.091533\n",
       "0           profit_am  0.352298\n",
       "0           damage_am  0.133870\n",
       "0          damage_inc  0.072385\n",
       "0         crd_lim_rec -0.232554\n",
       "0       credit_use_ic  0.005160\n",
       "0           gluten_ic  0.533617\n",
       "0          lactose_ic  0.579169\n",
       "0        insurance_ic -0.229077\n",
       "0              spa_ic -0.008091\n",
       "0             empl_ic -0.070959\n",
       "0        cab_requests -0.050136\n",
       "0          married_cd -0.002146\n",
       "0              bar_no -0.020101\n",
       "0            sport_ic  0.004077\n",
       "0     neighbor_income  0.276592\n",
       "0                 age  0.008605\n",
       "0    marketing_permit  0.005683\n",
       "0            urban_ic  0.283652\n",
       "0           dining_ic -0.024911\n",
       "0        presidential  0.895653\n",
       "0           prev_stay  0.255756\n",
       "0    prev_all_in_stay -0.118826\n",
       "0             divorce  0.042774\n",
       "0      fam_adult_size  0.010418\n",
       "0         children_no  0.005409\n",
       "0          tenure_mts -0.013646\n",
       "0          company_ic  0.309195\n",
       "0           claims_no  0.012013\n",
       "0           claims_am -0.013029\n",
       "0       nights_booked -0.560848\n",
       "0             shop_am  0.064340\n",
       "0            shop_use  0.151397\n",
       "0             retired -0.010107\n",
       "0         gold_status  0.970171\n",
       "0           score_pos -0.061983\n",
       "0           score_neg -0.045518\n",
       "0   missing_score_pos -0.104618\n",
       "0   missing_score_neg -0.121853\n",
       "0            gender_M  0.319908\n",
       "0            gender_V -0.319908\n",
       "0  client_segment_0.0  0.051254\n",
       "0  client_segment_1.0 -0.367208\n",
       "0  client_segment_2.0  0.127599\n",
       "0  client_segment_3.0  0.697859\n",
       "0  client_segment_4.0  0.223441\n",
       "0  client_segment_5.0  1.823876\n",
       "0       sect_empl_0.0 -0.127556\n",
       "0       sect_empl_1.0  0.093318\n",
       "0       sect_empl_2.0 -0.067082\n",
       "0       sect_empl_3.0 -0.007244\n",
       "0       sect_empl_4.0  0.296488\n",
       "0       sect_empl_6.0  0.350517"
      ]
     },
     "execution_count": 58,
     "metadata": {},
     "output_type": "execute_result"
    }
   ],
   "source": [
    "from sklearn.linear_model import LinearRegression\n",
    "\n",
    "X = pd.DataFrame(X_train_profit)\n",
    "X.columns = X_train_profit.columns\n",
    "predictors =  X_train_profit.columns\n",
    "y = np.array((pred_train-pred_train.mean())/np.sqrt(pred_train.var())).reshape(-1, 1)\n",
    "\n",
    "reg = LinearRegression(normalize=True).fit(X[[predictors[0]]], y)\n",
    "beta = pd.Series(reg.coef_[0])\n",
    "names = pd.Series(predictors[0])\n",
    "for i in np.arange(1,(X.shape[1])):\n",
    "    reg = LinearRegression(normalize=True).fit(X[[predictors[i]]], y)\n",
    "    beta_help = pd.Series(reg.coef_[0])\n",
    "    names_help = pd.Series(predictors[i])\n",
    "    beta = pd.concat([beta,beta_help], axis=0)\n",
    "    names = pd.concat([names,names_help], axis=0)\n",
    "betas = pd.concat([names,beta],axis=1)\n",
    "betas\n"
   ]
  },
  {
   "cell_type": "markdown",
   "metadata": {},
   "source": [
    "## 3.3 Why is a prediction what it is?"
   ]
  },
  {
   "cell_type": "code",
   "execution_count": 6,
   "metadata": {},
   "outputs": [],
   "source": [
    "import lime\n",
    "import lime.lime_tabular\n",
    "from lime.lime_tabular import LimeTabularExplainer\n",
    "\n",
    "explainer = LimeTabularExplainer(X_train_profit.values, mode=\"regression\", feature_names=X_train_profit.columns)\n",
    "\n",
    "i = 100\n",
    "X_train_profit = pd.DataFrame(X_train_profit)\n",
    "X_train_profit.columns = X_train_profit.columns\n",
    "\n",
    "X_observation = X_train_profit.iloc[[i], :]"
   ]
  },
  {
   "cell_type": "code",
   "execution_count": 7,
   "metadata": {},
   "outputs": [
    {
     "ename": "NameError",
     "evalue": "name 'rf_gridBest' is not defined",
     "output_type": "error",
     "traceback": [
      "\u001b[1;31m---------------------------------------------------------------------------\u001b[0m",
      "\u001b[1;31mNameError\u001b[0m                                 Traceback (most recent call last)",
      "\u001b[1;32m<ipython-input-7-6264893d22ae>\u001b[0m in \u001b[0;36m<module>\u001b[1;34m\u001b[0m\n\u001b[1;32m----> 1\u001b[1;33m \u001b[0mexplanation\u001b[0m \u001b[1;33m=\u001b[0m \u001b[0mexplainer\u001b[0m\u001b[1;33m.\u001b[0m\u001b[0mexplain_instance\u001b[0m\u001b[1;33m(\u001b[0m\u001b[0mX_observation\u001b[0m\u001b[1;33m.\u001b[0m\u001b[0mvalues\u001b[0m\u001b[1;33m[\u001b[0m\u001b[1;36m0\u001b[0m\u001b[1;33m]\u001b[0m\u001b[1;33m,\u001b[0m \u001b[0mrf_gridBest\u001b[0m\u001b[1;33m.\u001b[0m\u001b[0mpredict\u001b[0m\u001b[1;33m)\u001b[0m\u001b[1;33m\u001b[0m\u001b[1;33m\u001b[0m\u001b[0m\n\u001b[0m\u001b[0;32m      2\u001b[0m \u001b[0mexplanation\u001b[0m\u001b[1;33m.\u001b[0m\u001b[0mshow_in_notebook\u001b[0m\u001b[1;33m(\u001b[0m\u001b[0mshow_table\u001b[0m\u001b[1;33m=\u001b[0m\u001b[1;32mTrue\u001b[0m\u001b[1;33m,\u001b[0m \u001b[0mshow_all\u001b[0m\u001b[1;33m=\u001b[0m\u001b[1;32mFalse\u001b[0m\u001b[1;33m)\u001b[0m\u001b[1;33m\u001b[0m\u001b[1;33m\u001b[0m\u001b[0m\n",
      "\u001b[1;31mNameError\u001b[0m: name 'rf_gridBest' is not defined"
     ]
    }
   ],
   "source": [
    "explanation = explainer.explain_instance(X_observation.values[0], rf_gridBest.predict)\n",
    "explanation.show_in_notebook(show_table=True, show_all=False)"
   ]
  },
  {
   "cell_type": "markdown",
   "metadata": {},
   "source": [
    "# 4. Gradient boosting"
   ]
  },
  {
   "cell_type": "markdown",
   "metadata": {},
   "source": [
    "## 4.1 Perform random search"
   ]
  },
  {
   "cell_type": "code",
   "execution_count": null,
   "metadata": {},
   "outputs": [
    {
     "name": "stdout",
     "output_type": "stream",
     "text": [
      "Fitting 5 folds for each of 100 candidates, totalling 500 fits\n"
     ]
    }
   ],
   "source": [
    "from sklearn.model_selection import RandomizedSearchCV\n",
    "from sklearn.ensemble import GradientBoostingRegressor\n",
    "\n",
    "criterion =['mse','mae']\n",
    "n_estimators = [int(x) for x in np.linspace(start = 100, stop = 500, num = 50)]\n",
    "max_features = ['auto', 'sqrt', 'log2']\n",
    "max_depth = [int(x) for x in np.linspace(1, 15, num = 15)]\n",
    "min_samples_split = [int(x) for x in np.linspace(2, 15, num = 14)]\n",
    "min_samples_leaf = [int(x) for x in np.linspace(1, 15, num = 15)]\n",
    "max_leaf_nodes = [int(x) for x in np.linspace(10, 500, num = 50)]\n",
    "loss = ['ls','lad','huber','quantile']\n",
    "learning_rate = [round(x,5) for x in np.linspace(0.1, 1, num = 10)]\n",
    "\n",
    "random_grid = {'criterion': criterion,\n",
    "               'n_estimators': n_estimators,\n",
    "               'max_features': max_features,\n",
    "               'max_depth': max_depth,\n",
    "               'min_samples_split': min_samples_split,\n",
    "               'min_samples_leaf': min_samples_leaf,\n",
    "               'max_leaf_nodes': max_leaf_nodes,\n",
    "               'loss': loss,\n",
    "               'learning_rate': learning_rate}\n",
    "\n",
    "gbm = GradientBoostingRegressor()\n",
    "gbm_random = RandomizedSearchCV(estimator = gbm, param_distributions = random_grid, n_iter = 100, \n",
    "                               cv = 5, verbose=10, random_state=42, n_jobs=-1)\n",
    "gbm_random.fit(X_train_profit, y_train_profit)"
   ]
  },
  {
   "cell_type": "markdown",
   "metadata": {},
   "source": [
    "## 4.2Test best model"
   ]
  },
  {
   "cell_type": "code",
   "execution_count": 67,
   "metadata": {},
   "outputs": [
    {
     "name": "stdout",
     "output_type": "stream",
     "text": [
      "0.7857231392874606\n"
     ]
    }
   ],
   "source": [
    "print(gbm_random.score(X_train_profit, y_train_profit))"
   ]
  },
  {
   "cell_type": "markdown",
   "metadata": {},
   "source": [
    "We have a very high R2. This is perfectly possible because we are dealing with the best algorithm here. Hopefully we will get a similar result after our grid search.Let's also hope for our test data set."
   ]
  },
  {
   "cell_type": "markdown",
   "metadata": {},
   "source": [
    "## 4.3 Print out the parameters of the best model"
   ]
  },
  {
   "cell_type": "code",
   "execution_count": 68,
   "metadata": {},
   "outputs": [
    {
     "data": {
      "text/plain": [
       "{'n_estimators': 255,\n",
       " 'min_samples_split': 5,\n",
       " 'min_samples_leaf': 9,\n",
       " 'max_leaf_nodes': 190,\n",
       " 'max_features': 'auto',\n",
       " 'max_depth': 3,\n",
       " 'loss': 'ls',\n",
       " 'learning_rate': 0.1,\n",
       " 'criterion': 'mse'}"
      ]
     },
     "execution_count": 68,
     "metadata": {},
     "output_type": "execute_result"
    }
   ],
   "source": [
    "gbm_random.best_params_"
   ]
  },
  {
   "cell_type": "markdown",
   "metadata": {},
   "source": [
    "## 4.4 Plot the results of the hyperparameters"
   ]
  },
  {
   "cell_type": "code",
   "execution_count": 69,
   "metadata": {},
   "outputs": [
    {
     "data": {
      "text/html": [
       "<div>\n",
       "<style scoped>\n",
       "    .dataframe tbody tr th:only-of-type {\n",
       "        vertical-align: middle;\n",
       "    }\n",
       "\n",
       "    .dataframe tbody tr th {\n",
       "        vertical-align: top;\n",
       "    }\n",
       "\n",
       "    .dataframe thead th {\n",
       "        text-align: right;\n",
       "    }\n",
       "</style>\n",
       "<table border=\"1\" class=\"dataframe\">\n",
       "  <thead>\n",
       "    <tr style=\"text-align: right;\">\n",
       "      <th></th>\n",
       "      <th>mean_fit_time</th>\n",
       "      <th>std_fit_time</th>\n",
       "      <th>mean_score_time</th>\n",
       "      <th>std_score_time</th>\n",
       "      <th>param_n_estimators</th>\n",
       "      <th>param_min_samples_split</th>\n",
       "      <th>param_min_samples_leaf</th>\n",
       "      <th>param_max_leaf_nodes</th>\n",
       "      <th>param_max_features</th>\n",
       "      <th>param_max_depth</th>\n",
       "      <th>...</th>\n",
       "      <th>param_criterion</th>\n",
       "      <th>params</th>\n",
       "      <th>split0_test_score</th>\n",
       "      <th>split1_test_score</th>\n",
       "      <th>split2_test_score</th>\n",
       "      <th>split3_test_score</th>\n",
       "      <th>split4_test_score</th>\n",
       "      <th>mean_test_score</th>\n",
       "      <th>std_test_score</th>\n",
       "      <th>rank_test_score</th>\n",
       "    </tr>\n",
       "  </thead>\n",
       "  <tbody>\n",
       "    <tr>\n",
       "      <th>0</th>\n",
       "      <td>91.675040</td>\n",
       "      <td>3.080175</td>\n",
       "      <td>0.012201</td>\n",
       "      <td>0.000980</td>\n",
       "      <td>442</td>\n",
       "      <td>10</td>\n",
       "      <td>9</td>\n",
       "      <td>40</td>\n",
       "      <td>sqrt</td>\n",
       "      <td>2</td>\n",
       "      <td>...</td>\n",
       "      <td>mae</td>\n",
       "      <td>{'n_estimators': 442, 'min_samples_split': 10,...</td>\n",
       "      <td>0.532730</td>\n",
       "      <td>0.610171</td>\n",
       "      <td>0.556280</td>\n",
       "      <td>0.529727</td>\n",
       "      <td>0.580716</td>\n",
       "      <td>0.561925</td>\n",
       "      <td>0.030337</td>\n",
       "      <td>37</td>\n",
       "    </tr>\n",
       "    <tr>\n",
       "      <th>1</th>\n",
       "      <td>161.179280</td>\n",
       "      <td>4.657824</td>\n",
       "      <td>0.030802</td>\n",
       "      <td>0.001165</td>\n",
       "      <td>255</td>\n",
       "      <td>4</td>\n",
       "      <td>5</td>\n",
       "      <td>500</td>\n",
       "      <td>sqrt</td>\n",
       "      <td>14</td>\n",
       "      <td>...</td>\n",
       "      <td>mae</td>\n",
       "      <td>{'n_estimators': 255, 'min_samples_split': 4, ...</td>\n",
       "      <td>0.437711</td>\n",
       "      <td>0.493908</td>\n",
       "      <td>0.464487</td>\n",
       "      <td>0.456670</td>\n",
       "      <td>0.468212</td>\n",
       "      <td>0.464198</td>\n",
       "      <td>0.018205</td>\n",
       "      <td>58</td>\n",
       "    </tr>\n",
       "    <tr>\n",
       "      <th>2</th>\n",
       "      <td>10.520419</td>\n",
       "      <td>0.546005</td>\n",
       "      <td>0.013440</td>\n",
       "      <td>0.001431</td>\n",
       "      <td>214</td>\n",
       "      <td>14</td>\n",
       "      <td>15</td>\n",
       "      <td>330</td>\n",
       "      <td>auto</td>\n",
       "      <td>6</td>\n",
       "      <td>...</td>\n",
       "      <td>mse</td>\n",
       "      <td>{'n_estimators': 214, 'min_samples_split': 14,...</td>\n",
       "      <td>0.444839</td>\n",
       "      <td>0.510153</td>\n",
       "      <td>0.477561</td>\n",
       "      <td>0.540980</td>\n",
       "      <td>0.489405</td>\n",
       "      <td>0.492588</td>\n",
       "      <td>0.032144</td>\n",
       "      <td>51</td>\n",
       "    </tr>\n",
       "    <tr>\n",
       "      <th>3</th>\n",
       "      <td>90.585656</td>\n",
       "      <td>2.745388</td>\n",
       "      <td>0.012830</td>\n",
       "      <td>0.000506</td>\n",
       "      <td>328</td>\n",
       "      <td>11</td>\n",
       "      <td>13</td>\n",
       "      <td>460</td>\n",
       "      <td>sqrt</td>\n",
       "      <td>3</td>\n",
       "      <td>...</td>\n",
       "      <td>mae</td>\n",
       "      <td>{'n_estimators': 328, 'min_samples_split': 11,...</td>\n",
       "      <td>0.640423</td>\n",
       "      <td>0.666975</td>\n",
       "      <td>0.634082</td>\n",
       "      <td>0.610176</td>\n",
       "      <td>0.668586</td>\n",
       "      <td>0.644048</td>\n",
       "      <td>0.021852</td>\n",
       "      <td>3</td>\n",
       "    </tr>\n",
       "    <tr>\n",
       "      <th>4</th>\n",
       "      <td>146.581414</td>\n",
       "      <td>3.957546</td>\n",
       "      <td>0.031461</td>\n",
       "      <td>0.002845</td>\n",
       "      <td>402</td>\n",
       "      <td>15</td>\n",
       "      <td>1</td>\n",
       "      <td>70</td>\n",
       "      <td>log2</td>\n",
       "      <td>13</td>\n",
       "      <td>...</td>\n",
       "      <td>mae</td>\n",
       "      <td>{'n_estimators': 402, 'min_samples_split': 15,...</td>\n",
       "      <td>0.505241</td>\n",
       "      <td>0.563923</td>\n",
       "      <td>0.530763</td>\n",
       "      <td>0.562850</td>\n",
       "      <td>0.566371</td>\n",
       "      <td>0.545830</td>\n",
       "      <td>0.024139</td>\n",
       "      <td>42</td>\n",
       "    </tr>\n",
       "  </tbody>\n",
       "</table>\n",
       "<p>5 rows × 22 columns</p>\n",
       "</div>"
      ],
      "text/plain": [
       "   mean_fit_time  std_fit_time  mean_score_time  std_score_time  \\\n",
       "0      91.675040      3.080175         0.012201        0.000980   \n",
       "1     161.179280      4.657824         0.030802        0.001165   \n",
       "2      10.520419      0.546005         0.013440        0.001431   \n",
       "3      90.585656      2.745388         0.012830        0.000506   \n",
       "4     146.581414      3.957546         0.031461        0.002845   \n",
       "\n",
       "  param_n_estimators param_min_samples_split param_min_samples_leaf  \\\n",
       "0                442                      10                      9   \n",
       "1                255                       4                      5   \n",
       "2                214                      14                     15   \n",
       "3                328                      11                     13   \n",
       "4                402                      15                      1   \n",
       "\n",
       "  param_max_leaf_nodes param_max_features param_max_depth  ...  \\\n",
       "0                   40               sqrt               2  ...   \n",
       "1                  500               sqrt              14  ...   \n",
       "2                  330               auto               6  ...   \n",
       "3                  460               sqrt               3  ...   \n",
       "4                   70               log2              13  ...   \n",
       "\n",
       "  param_criterion                                             params  \\\n",
       "0             mae  {'n_estimators': 442, 'min_samples_split': 10,...   \n",
       "1             mae  {'n_estimators': 255, 'min_samples_split': 4, ...   \n",
       "2             mse  {'n_estimators': 214, 'min_samples_split': 14,...   \n",
       "3             mae  {'n_estimators': 328, 'min_samples_split': 11,...   \n",
       "4             mae  {'n_estimators': 402, 'min_samples_split': 15,...   \n",
       "\n",
       "  split0_test_score split1_test_score  split2_test_score  split3_test_score  \\\n",
       "0          0.532730          0.610171           0.556280           0.529727   \n",
       "1          0.437711          0.493908           0.464487           0.456670   \n",
       "2          0.444839          0.510153           0.477561           0.540980   \n",
       "3          0.640423          0.666975           0.634082           0.610176   \n",
       "4          0.505241          0.563923           0.530763           0.562850   \n",
       "\n",
       "   split4_test_score  mean_test_score  std_test_score  rank_test_score  \n",
       "0           0.580716         0.561925        0.030337               37  \n",
       "1           0.468212         0.464198        0.018205               58  \n",
       "2           0.489405         0.492588        0.032144               51  \n",
       "3           0.668586         0.644048        0.021852                3  \n",
       "4           0.566371         0.545830        0.024139               42  \n",
       "\n",
       "[5 rows x 22 columns]"
      ]
     },
     "execution_count": 69,
     "metadata": {},
     "output_type": "execute_result"
    }
   ],
   "source": [
    "out = pd.DataFrame(gbm_random.cv_results_)\n",
    "out.head()"
   ]
  },
  {
   "cell_type": "code",
   "execution_count": 70,
   "metadata": {},
   "outputs": [
    {
     "data": {
      "image/png": "[encoded data removed]",
      "text/plain": [
       "<Figure size 1440x720 with 9 Axes>"
      ]
     },
     "metadata": {},
     "output_type": "display_data"
    }
   ],
   "source": [
    "out2 = out\n",
    "\n",
    "xlabel_names = ['param_max_depth','param_min_samples_split','param_min_samples_leaf','param_n_estimators',\n",
    "                'param_max_features', 'param_max_leaf_nodes', 'param_criterion']\n",
    "\n",
    "fig, axs = plt.subplots(3,3, figsize=(20,10))\n",
    "\n",
    "axs[0,0].scatter(out2['param_max_depth'], out2['mean_test_score'], c='blue');\n",
    "axs[0,0].set_title('max_depth')\n",
    "\n",
    "axs[0,1].scatter(out2['param_min_samples_split'], out2['mean_test_score'], c='blue');\n",
    "axs[0,1].set_title('min_samples_split')\n",
    "\n",
    "axs[0,2].scatter(out2['param_min_samples_leaf'], out2['mean_test_score'], c='blue');\n",
    "axs[0,2].set_title('min_samples_leaf')\n",
    "\n",
    "axs[1,0].scatter(out2['param_n_estimators'], out2['mean_test_score'], c='blue');\n",
    "axs[1,0].set_title('n_estimators')\n",
    "\n",
    "axs[1,1].scatter(out2['param_max_features'], out2['mean_test_score'], c='blue');\n",
    "axs[1,1].set_title('max_features')\n",
    "\n",
    "axs[1,2].scatter(out2['param_max_leaf_nodes'], out2['mean_test_score'], c='blue');\n",
    "axs[1,2].set_title('max_leaf_nodes')\n",
    "\n",
    "axs[2,0].scatter(out2['param_criterion'], out2['mean_test_score'], c='blue');\n",
    "axs[2,0].set_title('criterion')\n",
    "\n",
    "axs[2,1].scatter(out2['param_learning_rate'], out2['mean_test_score'], c='blue');\n",
    "axs[2,1].set_title('learning_rate')\n",
    "\n",
    "axs[2,2].scatter(out2['param_loss'], out2['mean_test_score'], c='blue');\n",
    "axs[2,2].set_title('loss')\n",
    "\n",
    "\n",
    "for ax in axs.flat: ax.set(ylabel='r_squared')"
   ]
  },
  {
   "cell_type": "markdown",
   "metadata": {},
   "source": [
    "It is hard to see anything on these graphs. We will zoom in on the R^2 above 0.6."
   ]
  },
  {
   "cell_type": "markdown",
   "metadata": {},
   "source": [
    "__note__: We don't choose a R2 of 0.6 because otherwise we can't declare why to choose and try that hyperparameter."
   ]
  },
  {
   "cell_type": "code",
   "execution_count": 71,
   "metadata": {},
   "outputs": [],
   "source": [
    "out2 = out[out.mean_test_score > 0.6]"
   ]
  },
  {
   "cell_type": "code",
   "execution_count": 72,
   "metadata": {},
   "outputs": [
    {
     "data": {
      "image/png": "[encoded data removed]",
      "text/plain": [
       "<Figure size 1440x720 with 9 Axes>"
      ]
     },
     "metadata": {},
     "output_type": "display_data"
    }
   ],
   "source": [
    "xlabel_names = ['param_max_depth','param_min_samples_split','param_min_samples_leaf','param_n_estimators',\n",
    "                'param_max_features', 'param_max_leaf_nodes', 'param_criterion']\n",
    "\n",
    "fig, axs = plt.subplots(3,3, figsize=(20,10))\n",
    "\n",
    "axs[0,0].scatter(out2['param_max_depth'], out2['mean_test_score'], c='blue');\n",
    "axs[0,0].set_title('max_depth')\n",
    "\n",
    "axs[0,1].scatter(out2['param_min_samples_split'], out2['mean_test_score'], c='blue');\n",
    "axs[0,1].set_title('min_samples_split')\n",
    "\n",
    "axs[0,2].scatter(out2['param_min_samples_leaf'], out2['mean_test_score'], c='blue');\n",
    "axs[0,2].set_title('min_samples_leaf')\n",
    "\n",
    "axs[1,0].scatter(out2['param_n_estimators'], out2['mean_test_score'], c='blue');\n",
    "axs[1,0].set_title('n_estimators')\n",
    "\n",
    "axs[1,1].scatter(out2['param_max_features'], out2['mean_test_score'], c='blue');\n",
    "axs[1,1].set_title('max_features')\n",
    "\n",
    "axs[1,2].scatter(out2['param_max_leaf_nodes'], out2['mean_test_score'], c='blue');\n",
    "axs[1,2].set_title('max_leaf_nodes')\n",
    "\n",
    "axs[2,0].scatter(out2['param_criterion'], out2['mean_test_score'], c='blue');\n",
    "axs[2,0].set_title('criterion')\n",
    "\n",
    "axs[2,1].scatter(out2['param_learning_rate'], out2['mean_test_score'], c='blue');\n",
    "axs[2,1].set_title('learning_rate')\n",
    "\n",
    "axs[2,2].scatter(out2['param_loss'], out2['mean_test_score'], c='blue');\n",
    "axs[2,2].set_title('loss')\n",
    "\n",
    "\n",
    "for ax in axs.flat: ax.set(ylabel='r_squared')"
   ]
  },
  {
   "cell_type": "markdown",
   "metadata": {},
   "source": [
    "## 4.5 Grid search"
   ]
  },
  {
   "cell_type": "code",
   "execution_count": 73,
   "metadata": {},
   "outputs": [
    {
     "name": "stdout",
     "output_type": "stream",
     "text": [
      "Fitting 5 folds for each of 32 candidates, totalling 160 fits\n"
     ]
    },
    {
     "data": {
      "text/plain": [
       "GridSearchCV(cv=5, estimator=GradientBoostingRegressor(), n_jobs=-1,\n",
       "             param_grid={'criterion': ['mse'], 'learning_rate': [0.1, 0.2],\n",
       "                         'loss': ['lad', 'ls'], 'max_depth': [3, 5],\n",
       "                         'max_features': ['auto'], 'max_leaf_nodes': [190],\n",
       "                         'min_samples_leaf': [9, 7],\n",
       "                         'min_samples_split': [5, 9], 'n_estimators': [255]},\n",
       "             verbose=10)"
      ]
     },
     "execution_count": 73,
     "metadata": {},
     "output_type": "execute_result"
    }
   ],
   "source": [
    "from sklearn.model_selection import GridSearchCV\n",
    "from sklearn.ensemble import RandomForestRegressor\n",
    "\n",
    "criterion =['mse']\n",
    "n_estimators = [255]\n",
    "max_features = ['auto']\n",
    "max_depth = [3, 5]\n",
    "min_samples_split = [5,9]\n",
    "min_samples_leaf = [9,7]\n",
    "max_leaf_nodes = [190]\n",
    "learning_rate = [0.1,0.2]\n",
    "loss = ['lad','ls']\n",
    "\n",
    "grid = {'criterion': criterion,\n",
    "               'n_estimators': n_estimators,\n",
    "               'max_features': max_features,\n",
    "               'max_depth': max_depth,\n",
    "               'min_samples_split': min_samples_split,\n",
    "               'min_samples_leaf': min_samples_leaf,\n",
    "            'max_leaf_nodes': max_leaf_nodes,\n",
    "               'learning_rate': learning_rate,\n",
    "               'loss':loss}\n",
    "\n",
    "gbm = GradientBoostingRegressor()\n",
    "gbm_grid = GridSearchCV(estimator = gbm, param_grid = grid,\n",
    "                               cv = 5, verbose=10,  n_jobs=-1)\n",
    "gbm_grid.fit(X_train_profit, y_train_profit)"
   ]
  },
  {
   "cell_type": "code",
   "execution_count": 74,
   "metadata": {},
   "outputs": [
    {
     "data": {
      "text/plain": [
       "{'criterion': 'mse',\n",
       " 'learning_rate': 0.1,\n",
       " 'loss': 'ls',\n",
       " 'max_depth': 3,\n",
       " 'max_features': 'auto',\n",
       " 'max_leaf_nodes': 190,\n",
       " 'min_samples_leaf': 9,\n",
       " 'min_samples_split': 5,\n",
       " 'n_estimators': 255}"
      ]
     },
     "execution_count": 74,
     "metadata": {},
     "output_type": "execute_result"
    }
   ],
   "source": [
    "gbm_grid.best_params_"
   ]
  },
  {
   "cell_type": "code",
   "execution_count": 76,
   "metadata": {},
   "outputs": [
    {
     "name": "stdout",
     "output_type": "stream",
     "text": [
      "R2: 0.786\n"
     ]
    }
   ],
   "source": [
    "params = gbm_grid.best_params_\n",
    "gbm_gridBest = GradientBoostingRegressor(**params)\n",
    "gbm_gridBest.fit(X_train_profit, y_train_profit)\n",
    "print('R2: %.3f' % gbm_gridBest.score(X_train_profit, y_train_profit))"
   ]
  },
  {
   "cell_type": "markdown",
   "metadata": {},
   "source": [
    "# 5. choosing and using the best model"
   ]
  },
  {
   "cell_type": "markdown",
   "metadata": {},
   "source": [
    "We can destract from the R2 scores that gbm is our best model. Now we will use this model on score_cleaned.csv and put the results in a other data set, so score_cleaned is still useable for other models."
   ]
  },
  {
   "cell_type": "code",
   "execution_count": 79,
   "metadata": {},
   "outputs": [],
   "source": [
    "outcome_profit = gbm_gridBest.predict(df_test)"
   ]
  },
  {
   "cell_type": "code",
   "execution_count": 80,
   "metadata": {},
   "outputs": [],
   "source": [
    "df_result = df_test.copy()\n",
    "df_result['outcome_profit'] = outcome_profit\n",
    "df_result.to_csv('score_with_profit_results.csv')"
   ]
  }
 ],
 "metadata": {
  "kernelspec": {
   "display_name": "Python 3",
   "language": "python",
   "name": "python3"
  },
  "language_info": {
   "codemirror_mode": {
    "name": "ipython",
    "version": 3
   },
   "file_extension": ".py",
   "mimetype": "text/x-python",
   "name": "python",
   "nbconvert_exporter": "python",
   "pygments_lexer": "ipython3",
   "version": "3.8.3"
  }
 },
 "nbformat": 4,
 "nbformat_minor": 4
}
